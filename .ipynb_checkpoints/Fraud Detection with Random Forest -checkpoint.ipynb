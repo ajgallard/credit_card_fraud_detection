{
 "cells": [
  {
   "cell_type": "markdown",
   "id": "db86ed7c",
   "metadata": {},
   "source": [
    "# Fraud Detection with Random Forest\n",
    "Most transactions that a credit card company will process are valid transactions. However, a select few of these transactions are actually fradulent and need to be identified as accurately as possible to ensure that customers have there identity secure. The imbalance between valid and fraud transactions requires some extra preprocessing along with the appropriate model to properly make a model. Assuming we have a labeled data set we can apply an ensemble method such as Random Forest to help us identify fraudulent transactions based the provided features"
   ]
  },
  {
   "cell_type": "code",
   "execution_count": 1,
   "id": "f4cb8f2c",
   "metadata": {},
   "outputs": [],
   "source": [
    "import sys\n",
    "import numpy as np\n",
    "import pandas as pd\n",
    "import matplotlib\n",
    "import seaborn as sns\n",
    "import sklearn"
   ]
  },
  {
   "cell_type": "code",
   "execution_count": 2,
   "id": "3c3315d2",
   "metadata": {},
   "outputs": [
    {
     "name": "stdout",
     "output_type": "stream",
     "text": [
      "Python: 3.8.5 (default, Sep  3 2020, 21:29:08) [MSC v.1916 64 bit (AMD64)]\n",
      "Numpy: <module 'numpy.version' from 'C:\\\\Users\\\\ajgal\\\\AppData\\\\Roaming\\\\Python\\\\Python38\\\\site-packages\\\\numpy\\\\version.py'>\n",
      "Pandas: 1.2.4\n",
      "Matplotlib: 3.3.4\n",
      "Seaborn: 0.11.1\n",
      "Sklearn: 0.24.2\n"
     ]
    }
   ],
   "source": [
    "print(f'Python: {sys.version}')\n",
    "print(f'Numpy: {np.version}')\n",
    "print(f'Pandas: {pd.__version__}')\n",
    "print(f'Matplotlib: {matplotlib.__version__}')\n",
    "print(f'Seaborn: {sns.__version__}')\n",
    "print(f'Sklearn: {sklearn.__version__}')"
   ]
  },
  {
   "cell_type": "code",
   "execution_count": 3,
   "id": "90d03046",
   "metadata": {},
   "outputs": [],
   "source": [
    "import matplotlib.pyplot as plt\n",
    "%matplotlib inline"
   ]
  },
  {
   "cell_type": "markdown",
   "id": "613fd681",
   "metadata": {},
   "source": [
    "# Credit Card dataset\n",
    "The following dataset has been dimensionally reduced using PCA to protect the confidentiality of the data as these values are from real-world data."
   ]
  },
  {
   "cell_type": "code",
   "execution_count": 4,
   "id": "b69fd620",
   "metadata": {},
   "outputs": [],
   "source": [
    "data = pd.read_csv('data/creditcard.csv')"
   ]
  },
  {
   "cell_type": "code",
   "execution_count": 5,
   "id": "d0f1d442",
   "metadata": {},
   "outputs": [
    {
     "data": {
      "text/html": [
       "<div>\n",
       "<style scoped>\n",
       "    .dataframe tbody tr th:only-of-type {\n",
       "        vertical-align: middle;\n",
       "    }\n",
       "\n",
       "    .dataframe tbody tr th {\n",
       "        vertical-align: top;\n",
       "    }\n",
       "\n",
       "    .dataframe thead th {\n",
       "        text-align: right;\n",
       "    }\n",
       "</style>\n",
       "<table border=\"1\" class=\"dataframe\">\n",
       "  <thead>\n",
       "    <tr style=\"text-align: right;\">\n",
       "      <th></th>\n",
       "      <th>Time</th>\n",
       "      <th>V1</th>\n",
       "      <th>V2</th>\n",
       "      <th>V3</th>\n",
       "      <th>V4</th>\n",
       "      <th>V5</th>\n",
       "      <th>V6</th>\n",
       "      <th>V7</th>\n",
       "      <th>V8</th>\n",
       "      <th>V9</th>\n",
       "      <th>...</th>\n",
       "      <th>V21</th>\n",
       "      <th>V22</th>\n",
       "      <th>V23</th>\n",
       "      <th>V24</th>\n",
       "      <th>V25</th>\n",
       "      <th>V26</th>\n",
       "      <th>V27</th>\n",
       "      <th>V28</th>\n",
       "      <th>Amount</th>\n",
       "      <th>Class</th>\n",
       "    </tr>\n",
       "  </thead>\n",
       "  <tbody>\n",
       "    <tr>\n",
       "      <th>0</th>\n",
       "      <td>0.0</td>\n",
       "      <td>-1.359807</td>\n",
       "      <td>-0.072781</td>\n",
       "      <td>2.536347</td>\n",
       "      <td>1.378155</td>\n",
       "      <td>-0.338321</td>\n",
       "      <td>0.462388</td>\n",
       "      <td>0.239599</td>\n",
       "      <td>0.098698</td>\n",
       "      <td>0.363787</td>\n",
       "      <td>...</td>\n",
       "      <td>-0.018307</td>\n",
       "      <td>0.277838</td>\n",
       "      <td>-0.110474</td>\n",
       "      <td>0.066928</td>\n",
       "      <td>0.128539</td>\n",
       "      <td>-0.189115</td>\n",
       "      <td>0.133558</td>\n",
       "      <td>-0.021053</td>\n",
       "      <td>149.62</td>\n",
       "      <td>0</td>\n",
       "    </tr>\n",
       "    <tr>\n",
       "      <th>1</th>\n",
       "      <td>0.0</td>\n",
       "      <td>1.191857</td>\n",
       "      <td>0.266151</td>\n",
       "      <td>0.166480</td>\n",
       "      <td>0.448154</td>\n",
       "      <td>0.060018</td>\n",
       "      <td>-0.082361</td>\n",
       "      <td>-0.078803</td>\n",
       "      <td>0.085102</td>\n",
       "      <td>-0.255425</td>\n",
       "      <td>...</td>\n",
       "      <td>-0.225775</td>\n",
       "      <td>-0.638672</td>\n",
       "      <td>0.101288</td>\n",
       "      <td>-0.339846</td>\n",
       "      <td>0.167170</td>\n",
       "      <td>0.125895</td>\n",
       "      <td>-0.008983</td>\n",
       "      <td>0.014724</td>\n",
       "      <td>2.69</td>\n",
       "      <td>0</td>\n",
       "    </tr>\n",
       "    <tr>\n",
       "      <th>2</th>\n",
       "      <td>1.0</td>\n",
       "      <td>-1.358354</td>\n",
       "      <td>-1.340163</td>\n",
       "      <td>1.773209</td>\n",
       "      <td>0.379780</td>\n",
       "      <td>-0.503198</td>\n",
       "      <td>1.800499</td>\n",
       "      <td>0.791461</td>\n",
       "      <td>0.247676</td>\n",
       "      <td>-1.514654</td>\n",
       "      <td>...</td>\n",
       "      <td>0.247998</td>\n",
       "      <td>0.771679</td>\n",
       "      <td>0.909412</td>\n",
       "      <td>-0.689281</td>\n",
       "      <td>-0.327642</td>\n",
       "      <td>-0.139097</td>\n",
       "      <td>-0.055353</td>\n",
       "      <td>-0.059752</td>\n",
       "      <td>378.66</td>\n",
       "      <td>0</td>\n",
       "    </tr>\n",
       "    <tr>\n",
       "      <th>3</th>\n",
       "      <td>1.0</td>\n",
       "      <td>-0.966272</td>\n",
       "      <td>-0.185226</td>\n",
       "      <td>1.792993</td>\n",
       "      <td>-0.863291</td>\n",
       "      <td>-0.010309</td>\n",
       "      <td>1.247203</td>\n",
       "      <td>0.237609</td>\n",
       "      <td>0.377436</td>\n",
       "      <td>-1.387024</td>\n",
       "      <td>...</td>\n",
       "      <td>-0.108300</td>\n",
       "      <td>0.005274</td>\n",
       "      <td>-0.190321</td>\n",
       "      <td>-1.175575</td>\n",
       "      <td>0.647376</td>\n",
       "      <td>-0.221929</td>\n",
       "      <td>0.062723</td>\n",
       "      <td>0.061458</td>\n",
       "      <td>123.50</td>\n",
       "      <td>0</td>\n",
       "    </tr>\n",
       "    <tr>\n",
       "      <th>4</th>\n",
       "      <td>2.0</td>\n",
       "      <td>-1.158233</td>\n",
       "      <td>0.877737</td>\n",
       "      <td>1.548718</td>\n",
       "      <td>0.403034</td>\n",
       "      <td>-0.407193</td>\n",
       "      <td>0.095921</td>\n",
       "      <td>0.592941</td>\n",
       "      <td>-0.270533</td>\n",
       "      <td>0.817739</td>\n",
       "      <td>...</td>\n",
       "      <td>-0.009431</td>\n",
       "      <td>0.798278</td>\n",
       "      <td>-0.137458</td>\n",
       "      <td>0.141267</td>\n",
       "      <td>-0.206010</td>\n",
       "      <td>0.502292</td>\n",
       "      <td>0.219422</td>\n",
       "      <td>0.215153</td>\n",
       "      <td>69.99</td>\n",
       "      <td>0</td>\n",
       "    </tr>\n",
       "  </tbody>\n",
       "</table>\n",
       "<p>5 rows × 31 columns</p>\n",
       "</div>"
      ],
      "text/plain": [
       "   Time        V1        V2        V3        V4        V5        V6        V7  \\\n",
       "0   0.0 -1.359807 -0.072781  2.536347  1.378155 -0.338321  0.462388  0.239599   \n",
       "1   0.0  1.191857  0.266151  0.166480  0.448154  0.060018 -0.082361 -0.078803   \n",
       "2   1.0 -1.358354 -1.340163  1.773209  0.379780 -0.503198  1.800499  0.791461   \n",
       "3   1.0 -0.966272 -0.185226  1.792993 -0.863291 -0.010309  1.247203  0.237609   \n",
       "4   2.0 -1.158233  0.877737  1.548718  0.403034 -0.407193  0.095921  0.592941   \n",
       "\n",
       "         V8        V9  ...       V21       V22       V23       V24       V25  \\\n",
       "0  0.098698  0.363787  ... -0.018307  0.277838 -0.110474  0.066928  0.128539   \n",
       "1  0.085102 -0.255425  ... -0.225775 -0.638672  0.101288 -0.339846  0.167170   \n",
       "2  0.247676 -1.514654  ...  0.247998  0.771679  0.909412 -0.689281 -0.327642   \n",
       "3  0.377436 -1.387024  ... -0.108300  0.005274 -0.190321 -1.175575  0.647376   \n",
       "4 -0.270533  0.817739  ... -0.009431  0.798278 -0.137458  0.141267 -0.206010   \n",
       "\n",
       "        V26       V27       V28  Amount  Class  \n",
       "0 -0.189115  0.133558 -0.021053  149.62      0  \n",
       "1  0.125895 -0.008983  0.014724    2.69      0  \n",
       "2 -0.139097 -0.055353 -0.059752  378.66      0  \n",
       "3 -0.221929  0.062723  0.061458  123.50      0  \n",
       "4  0.502292  0.219422  0.215153   69.99      0  \n",
       "\n",
       "[5 rows x 31 columns]"
      ]
     },
     "execution_count": 5,
     "metadata": {},
     "output_type": "execute_result"
    }
   ],
   "source": [
    "data.head()"
   ]
  },
  {
   "cell_type": "markdown",
   "id": "b4e8f1eb",
   "metadata": {},
   "source": [
    "# Exploring the Data"
   ]
  },
  {
   "cell_type": "code",
   "execution_count": 6,
   "id": "49e98452",
   "metadata": {},
   "outputs": [
    {
     "data": {
      "text/plain": [
       "Index(['Time', 'V1', 'V2', 'V3', 'V4', 'V5', 'V6', 'V7', 'V8', 'V9', 'V10',\n",
       "       'V11', 'V12', 'V13', 'V14', 'V15', 'V16', 'V17', 'V18', 'V19', 'V20',\n",
       "       'V21', 'V22', 'V23', 'V24', 'V25', 'V26', 'V27', 'V28', 'Amount',\n",
       "       'Class'],\n",
       "      dtype='object')"
      ]
     },
     "execution_count": 6,
     "metadata": {},
     "output_type": "execute_result"
    }
   ],
   "source": [
    "data.columns"
   ]
  },
  {
   "cell_type": "code",
   "execution_count": 7,
   "id": "56d155ea",
   "metadata": {},
   "outputs": [
    {
     "data": {
      "text/plain": [
       "(284807, 31)"
      ]
     },
     "execution_count": 7,
     "metadata": {},
     "output_type": "execute_result"
    }
   ],
   "source": [
    "data.shape"
   ]
  },
  {
   "cell_type": "code",
   "execution_count": 8,
   "id": "cc3fae72",
   "metadata": {},
   "outputs": [
    {
     "data": {
      "text/plain": [
       "Time      172792.000000\n",
       "V1             2.454930\n",
       "V2            22.057729\n",
       "V3             9.382558\n",
       "V4            16.875344\n",
       "V5            34.801666\n",
       "V6            73.301626\n",
       "V7           120.589494\n",
       "V8            20.007208\n",
       "V9            15.594995\n",
       "V10           23.745136\n",
       "V11           12.018913\n",
       "V12            7.848392\n",
       "V13            7.126883\n",
       "V14           10.526766\n",
       "V15            8.877742\n",
       "V16           17.315112\n",
       "V17            9.253526\n",
       "V18            5.041069\n",
       "V19            5.591971\n",
       "V20           39.420904\n",
       "V21           27.202839\n",
       "V22           10.503090\n",
       "V23           22.528412\n",
       "V24            4.584549\n",
       "V25            7.519589\n",
       "V26            3.517346\n",
       "V27           31.612198\n",
       "V28           33.847808\n",
       "Amount     25691.160000\n",
       "Class          1.000000\n",
       "dtype: float64"
      ]
     },
     "execution_count": 8,
     "metadata": {},
     "output_type": "execute_result"
    }
   ],
   "source": [
    "#The data seems to require normalization prior to applying a model\n",
    "data.max()"
   ]
  },
  {
   "cell_type": "code",
   "execution_count": 9,
   "id": "5335dc68",
   "metadata": {},
   "outputs": [
    {
     "data": {
      "text/plain": [
       "Time        0.000000\n",
       "V1        -56.407510\n",
       "V2        -72.715728\n",
       "V3        -48.325589\n",
       "V4         -5.683171\n",
       "V5       -113.743307\n",
       "V6        -26.160506\n",
       "V7        -43.557242\n",
       "V8        -73.216718\n",
       "V9        -13.434066\n",
       "V10       -24.588262\n",
       "V11        -4.797473\n",
       "V12       -18.683715\n",
       "V13        -5.791881\n",
       "V14       -19.214325\n",
       "V15        -4.498945\n",
       "V16       -14.129855\n",
       "V17       -25.162799\n",
       "V18        -9.498746\n",
       "V19        -7.213527\n",
       "V20       -54.497720\n",
       "V21       -34.830382\n",
       "V22       -10.933144\n",
       "V23       -44.807735\n",
       "V24        -2.836627\n",
       "V25       -10.295397\n",
       "V26        -2.604551\n",
       "V27       -22.565679\n",
       "V28       -15.430084\n",
       "Amount      0.000000\n",
       "Class       0.000000\n",
       "dtype: float64"
      ]
     },
     "execution_count": 9,
     "metadata": {},
     "output_type": "execute_result"
    }
   ],
   "source": [
    "data.min()"
   ]
  },
  {
   "cell_type": "code",
   "execution_count": 10,
   "id": "b0a665cd",
   "metadata": {},
   "outputs": [
    {
     "data": {
      "text/plain": [
       "0              0.0\n",
       "1              0.0\n",
       "2              1.0\n",
       "3              1.0\n",
       "4              2.0\n",
       "            ...   \n",
       "284802    172786.0\n",
       "284803    172787.0\n",
       "284804    172788.0\n",
       "284805    172788.0\n",
       "284806    172792.0\n",
       "Name: Time, Length: 284807, dtype: float64"
      ]
     },
     "execution_count": 10,
     "metadata": {},
     "output_type": "execute_result"
    }
   ],
   "source": [
    "data['Time']"
   ]
  },
  {
   "cell_type": "code",
   "execution_count": 11,
   "id": "19733941",
   "metadata": {},
   "outputs": [
    {
     "data": {
      "text/html": [
       "<div>\n",
       "<style scoped>\n",
       "    .dataframe tbody tr th:only-of-type {\n",
       "        vertical-align: middle;\n",
       "    }\n",
       "\n",
       "    .dataframe tbody tr th {\n",
       "        vertical-align: top;\n",
       "    }\n",
       "\n",
       "    .dataframe thead th {\n",
       "        text-align: right;\n",
       "    }\n",
       "</style>\n",
       "<table border=\"1\" class=\"dataframe\">\n",
       "  <thead>\n",
       "    <tr style=\"text-align: right;\">\n",
       "      <th></th>\n",
       "      <th>V1</th>\n",
       "      <th>V2</th>\n",
       "      <th>V3</th>\n",
       "      <th>V4</th>\n",
       "      <th>V5</th>\n",
       "      <th>V6</th>\n",
       "      <th>V7</th>\n",
       "      <th>V8</th>\n",
       "      <th>V9</th>\n",
       "      <th>V10</th>\n",
       "      <th>...</th>\n",
       "      <th>V21</th>\n",
       "      <th>V22</th>\n",
       "      <th>V23</th>\n",
       "      <th>V24</th>\n",
       "      <th>V25</th>\n",
       "      <th>V26</th>\n",
       "      <th>V27</th>\n",
       "      <th>V28</th>\n",
       "      <th>Amount</th>\n",
       "      <th>Class</th>\n",
       "    </tr>\n",
       "  </thead>\n",
       "  <tbody>\n",
       "    <tr>\n",
       "      <th>0</th>\n",
       "      <td>-1.359807</td>\n",
       "      <td>-0.072781</td>\n",
       "      <td>2.536347</td>\n",
       "      <td>1.378155</td>\n",
       "      <td>-0.338321</td>\n",
       "      <td>0.462388</td>\n",
       "      <td>0.239599</td>\n",
       "      <td>0.098698</td>\n",
       "      <td>0.363787</td>\n",
       "      <td>0.090794</td>\n",
       "      <td>...</td>\n",
       "      <td>-0.018307</td>\n",
       "      <td>0.277838</td>\n",
       "      <td>-0.110474</td>\n",
       "      <td>0.066928</td>\n",
       "      <td>0.128539</td>\n",
       "      <td>-0.189115</td>\n",
       "      <td>0.133558</td>\n",
       "      <td>-0.021053</td>\n",
       "      <td>149.62</td>\n",
       "      <td>0</td>\n",
       "    </tr>\n",
       "    <tr>\n",
       "      <th>1</th>\n",
       "      <td>1.191857</td>\n",
       "      <td>0.266151</td>\n",
       "      <td>0.166480</td>\n",
       "      <td>0.448154</td>\n",
       "      <td>0.060018</td>\n",
       "      <td>-0.082361</td>\n",
       "      <td>-0.078803</td>\n",
       "      <td>0.085102</td>\n",
       "      <td>-0.255425</td>\n",
       "      <td>-0.166974</td>\n",
       "      <td>...</td>\n",
       "      <td>-0.225775</td>\n",
       "      <td>-0.638672</td>\n",
       "      <td>0.101288</td>\n",
       "      <td>-0.339846</td>\n",
       "      <td>0.167170</td>\n",
       "      <td>0.125895</td>\n",
       "      <td>-0.008983</td>\n",
       "      <td>0.014724</td>\n",
       "      <td>2.69</td>\n",
       "      <td>0</td>\n",
       "    </tr>\n",
       "    <tr>\n",
       "      <th>2</th>\n",
       "      <td>-1.358354</td>\n",
       "      <td>-1.340163</td>\n",
       "      <td>1.773209</td>\n",
       "      <td>0.379780</td>\n",
       "      <td>-0.503198</td>\n",
       "      <td>1.800499</td>\n",
       "      <td>0.791461</td>\n",
       "      <td>0.247676</td>\n",
       "      <td>-1.514654</td>\n",
       "      <td>0.207643</td>\n",
       "      <td>...</td>\n",
       "      <td>0.247998</td>\n",
       "      <td>0.771679</td>\n",
       "      <td>0.909412</td>\n",
       "      <td>-0.689281</td>\n",
       "      <td>-0.327642</td>\n",
       "      <td>-0.139097</td>\n",
       "      <td>-0.055353</td>\n",
       "      <td>-0.059752</td>\n",
       "      <td>378.66</td>\n",
       "      <td>0</td>\n",
       "    </tr>\n",
       "    <tr>\n",
       "      <th>3</th>\n",
       "      <td>-0.966272</td>\n",
       "      <td>-0.185226</td>\n",
       "      <td>1.792993</td>\n",
       "      <td>-0.863291</td>\n",
       "      <td>-0.010309</td>\n",
       "      <td>1.247203</td>\n",
       "      <td>0.237609</td>\n",
       "      <td>0.377436</td>\n",
       "      <td>-1.387024</td>\n",
       "      <td>-0.054952</td>\n",
       "      <td>...</td>\n",
       "      <td>-0.108300</td>\n",
       "      <td>0.005274</td>\n",
       "      <td>-0.190321</td>\n",
       "      <td>-1.175575</td>\n",
       "      <td>0.647376</td>\n",
       "      <td>-0.221929</td>\n",
       "      <td>0.062723</td>\n",
       "      <td>0.061458</td>\n",
       "      <td>123.50</td>\n",
       "      <td>0</td>\n",
       "    </tr>\n",
       "    <tr>\n",
       "      <th>4</th>\n",
       "      <td>-1.158233</td>\n",
       "      <td>0.877737</td>\n",
       "      <td>1.548718</td>\n",
       "      <td>0.403034</td>\n",
       "      <td>-0.407193</td>\n",
       "      <td>0.095921</td>\n",
       "      <td>0.592941</td>\n",
       "      <td>-0.270533</td>\n",
       "      <td>0.817739</td>\n",
       "      <td>0.753074</td>\n",
       "      <td>...</td>\n",
       "      <td>-0.009431</td>\n",
       "      <td>0.798278</td>\n",
       "      <td>-0.137458</td>\n",
       "      <td>0.141267</td>\n",
       "      <td>-0.206010</td>\n",
       "      <td>0.502292</td>\n",
       "      <td>0.219422</td>\n",
       "      <td>0.215153</td>\n",
       "      <td>69.99</td>\n",
       "      <td>0</td>\n",
       "    </tr>\n",
       "  </tbody>\n",
       "</table>\n",
       "<p>5 rows × 30 columns</p>\n",
       "</div>"
      ],
      "text/plain": [
       "         V1        V2        V3        V4        V5        V6        V7  \\\n",
       "0 -1.359807 -0.072781  2.536347  1.378155 -0.338321  0.462388  0.239599   \n",
       "1  1.191857  0.266151  0.166480  0.448154  0.060018 -0.082361 -0.078803   \n",
       "2 -1.358354 -1.340163  1.773209  0.379780 -0.503198  1.800499  0.791461   \n",
       "3 -0.966272 -0.185226  1.792993 -0.863291 -0.010309  1.247203  0.237609   \n",
       "4 -1.158233  0.877737  1.548718  0.403034 -0.407193  0.095921  0.592941   \n",
       "\n",
       "         V8        V9       V10  ...       V21       V22       V23       V24  \\\n",
       "0  0.098698  0.363787  0.090794  ... -0.018307  0.277838 -0.110474  0.066928   \n",
       "1  0.085102 -0.255425 -0.166974  ... -0.225775 -0.638672  0.101288 -0.339846   \n",
       "2  0.247676 -1.514654  0.207643  ...  0.247998  0.771679  0.909412 -0.689281   \n",
       "3  0.377436 -1.387024 -0.054952  ... -0.108300  0.005274 -0.190321 -1.175575   \n",
       "4 -0.270533  0.817739  0.753074  ... -0.009431  0.798278 -0.137458  0.141267   \n",
       "\n",
       "        V25       V26       V27       V28  Amount  Class  \n",
       "0  0.128539 -0.189115  0.133558 -0.021053  149.62      0  \n",
       "1  0.167170  0.125895 -0.008983  0.014724    2.69      0  \n",
       "2 -0.327642 -0.139097 -0.055353 -0.059752  378.66      0  \n",
       "3  0.647376 -0.221929  0.062723  0.061458  123.50      0  \n",
       "4 -0.206010  0.502292  0.219422  0.215153   69.99      0  \n",
       "\n",
       "[5 rows x 30 columns]"
      ]
     },
     "execution_count": 11,
     "metadata": {},
     "output_type": "execute_result"
    }
   ],
   "source": [
    "#we will remove 'Time' as we are not using time to identify the qualities of a fraudulent transaction\n",
    "data.drop('Time',axis=1,inplace=True)\n",
    "data.head()"
   ]
  },
  {
   "cell_type": "code",
   "execution_count": 12,
   "id": "33938202",
   "metadata": {},
   "outputs": [
    {
     "data": {
      "text/plain": [
       "V1     V2     V3     V4     V5     V6     V7     V8     V9     V10    V11    V12    V13    V14    V15    V16    V17    V18    V19    V20    V21    V22    V23    V24    V25    V26    V27    V28    Amount  Class\n",
       "False  False  False  False  False  False  False  False  False  False  False  False  False  False  False  False  False  False  False  False  False  False  False  False  False  False  False  False  False   False    284807\n",
       "dtype: int64"
      ]
     },
     "execution_count": 12,
     "metadata": {},
     "output_type": "execute_result"
    }
   ],
   "source": [
    "#Checking for Missing Values\n",
    "data.isnull().value_counts()"
   ]
  },
  {
   "cell_type": "code",
   "execution_count": 13,
   "id": "59db5a28",
   "metadata": {},
   "outputs": [
    {
     "data": {
      "text/plain": [
       "<AxesSubplot:>"
      ]
     },
     "execution_count": 13,
     "metadata": {},
     "output_type": "execute_result"
    },
    {
     "data": {
      "image/png": "[encoded data removed]",
      "text/plain": [
       "<Figure size 792x648 with 1 Axes>"
      ]
     },
     "metadata": {
      "needs_background": "light"
     },
     "output_type": "display_data"
    }
   ],
   "source": [
    "plt.subplots(figsize=(11,9))\n",
    "sns.heatmap(data.isnull(), cbar=False)"
   ]
  },
  {
   "cell_type": "code",
   "execution_count": 14,
   "id": "9c57c3eb",
   "metadata": {},
   "outputs": [
    {
     "data": {
      "text/plain": [
       "<AxesSubplot:xlabel='Class', ylabel='count'>"
      ]
     },
     "execution_count": 14,
     "metadata": {},
     "output_type": "execute_result"
    },
    {
     "data": {
      "image/png": "[encoded data removed]",
      "text/plain": [
       "<Figure size 432x288 with 1 Axes>"
      ]
     },
     "metadata": {
      "needs_background": "light"
     },
     "output_type": "display_data"
    }
   ],
   "source": [
    "#Checking for Imbalanced Dataset\n",
    "sns.countplot(x='Class',data=data)"
   ]
  },
  {
   "cell_type": "code",
   "execution_count": 15,
   "id": "42181249",
   "metadata": {},
   "outputs": [
    {
     "data": {
      "text/plain": [
       "0    284315\n",
       "1       492\n",
       "Name: Class, dtype: int64"
      ]
     },
     "execution_count": 15,
     "metadata": {},
     "output_type": "execute_result"
    }
   ],
   "source": [
    "data['Class'].value_counts()"
   ]
  },
  {
   "cell_type": "markdown",
   "id": "8ff57929",
   "metadata": {},
   "source": [
    "# Scaling and Splitting the Data"
   ]
  },
  {
   "cell_type": "code",
   "execution_count": 16,
   "id": "9b65cfb0",
   "metadata": {},
   "outputs": [],
   "source": [
    "from sklearn.model_selection import train_test_split\n",
    "from sklearn.preprocessing import StandardScaler"
   ]
  },
  {
   "cell_type": "code",
   "execution_count": 17,
   "id": "16f10304",
   "metadata": {},
   "outputs": [],
   "source": [
    "#scaling the dataset\n",
    "scaler = StandardScaler()\n",
    "data_normal = scaler.fit_transform(data.drop('Class',axis=1))"
   ]
  },
  {
   "cell_type": "code",
   "execution_count": 18,
   "id": "ab55ec3a",
   "metadata": {},
   "outputs": [
    {
     "data": {
      "text/plain": [
       "['V1',\n",
       " 'V2',\n",
       " 'V3',\n",
       " 'V4',\n",
       " 'V5',\n",
       " 'V6',\n",
       " 'V7',\n",
       " 'V8',\n",
       " 'V9',\n",
       " 'V10',\n",
       " 'V11',\n",
       " 'V12',\n",
       " 'V13',\n",
       " 'V14',\n",
       " 'V15',\n",
       " 'V16',\n",
       " 'V17',\n",
       " 'V18',\n",
       " 'V19',\n",
       " 'V20',\n",
       " 'V21',\n",
       " 'V22',\n",
       " 'V23',\n",
       " 'V24',\n",
       " 'V25',\n",
       " 'V26',\n",
       " 'V27',\n",
       " 'V28',\n",
       " 'Amount']"
      ]
     },
     "execution_count": 18,
     "metadata": {},
     "output_type": "execute_result"
    }
   ],
   "source": [
    "col_names = list(data.columns)\n",
    "col_names.pop()\n",
    "col_names"
   ]
  },
  {
   "cell_type": "code",
   "execution_count": 19,
   "id": "bf7c90d0",
   "metadata": {},
   "outputs": [],
   "source": [
    "df_scaled = pd.DataFrame(data_normal, columns=col_names)"
   ]
  },
  {
   "cell_type": "code",
   "execution_count": 20,
   "id": "d5aa176f",
   "metadata": {},
   "outputs": [],
   "source": [
    "df_class = pd.DataFrame(data['Class'])"
   ]
  },
  {
   "cell_type": "code",
   "execution_count": 21,
   "id": "0b95f8f4",
   "metadata": {},
   "outputs": [],
   "source": [
    "data_scaled = pd.concat([df_scaled,df_class], axis=1, join='inner')"
   ]
  },
  {
   "cell_type": "code",
   "execution_count": 22,
   "id": "4a5d0fc8",
   "metadata": {},
   "outputs": [],
   "source": [
    "train, val = train_test_split(data_scaled, test_size=0.2, random_state=42)"
   ]
  },
  {
   "cell_type": "code",
   "execution_count": 23,
   "id": "cd4e2d21",
   "metadata": {},
   "outputs": [
    {
     "data": {
      "text/html": [
       "<div>\n",
       "<style scoped>\n",
       "    .dataframe tbody tr th:only-of-type {\n",
       "        vertical-align: middle;\n",
       "    }\n",
       "\n",
       "    .dataframe tbody tr th {\n",
       "        vertical-align: top;\n",
       "    }\n",
       "\n",
       "    .dataframe thead th {\n",
       "        text-align: right;\n",
       "    }\n",
       "</style>\n",
       "<table border=\"1\" class=\"dataframe\">\n",
       "  <thead>\n",
       "    <tr style=\"text-align: right;\">\n",
       "      <th></th>\n",
       "      <th>V1</th>\n",
       "      <th>V2</th>\n",
       "      <th>V3</th>\n",
       "      <th>V4</th>\n",
       "      <th>V5</th>\n",
       "      <th>V6</th>\n",
       "      <th>V7</th>\n",
       "      <th>V8</th>\n",
       "      <th>V9</th>\n",
       "      <th>V10</th>\n",
       "      <th>...</th>\n",
       "      <th>V21</th>\n",
       "      <th>V22</th>\n",
       "      <th>V23</th>\n",
       "      <th>V24</th>\n",
       "      <th>V25</th>\n",
       "      <th>V26</th>\n",
       "      <th>V27</th>\n",
       "      <th>V28</th>\n",
       "      <th>Amount</th>\n",
       "      <th>Class</th>\n",
       "    </tr>\n",
       "  </thead>\n",
       "  <tbody>\n",
       "    <tr>\n",
       "      <th>223361</th>\n",
       "      <td>0.998136</td>\n",
       "      <td>-0.230595</td>\n",
       "      <td>-0.207758</td>\n",
       "      <td>0.233183</td>\n",
       "      <td>-0.369046</td>\n",
       "      <td>-0.064700</td>\n",
       "      <td>-0.507624</td>\n",
       "      <td>0.030137</td>\n",
       "      <td>0.959887</td>\n",
       "      <td>-0.027957</td>\n",
       "      <td>...</td>\n",
       "      <td>0.324289</td>\n",
       "      <td>1.334304</td>\n",
       "      <td>0.085207</td>\n",
       "      <td>-0.460007</td>\n",
       "      <td>-0.086325</td>\n",
       "      <td>-0.449541</td>\n",
       "      <td>0.111905</td>\n",
       "      <td>-0.142827</td>\n",
       "      <td>-0.313289</td>\n",
       "      <td>0</td>\n",
       "    </tr>\n",
       "    <tr>\n",
       "      <th>165061</th>\n",
       "      <td>-0.204716</td>\n",
       "      <td>-0.379665</td>\n",
       "      <td>1.025778</td>\n",
       "      <td>-1.425115</td>\n",
       "      <td>-0.078079</td>\n",
       "      <td>0.126334</td>\n",
       "      <td>0.014517</td>\n",
       "      <td>-0.336266</td>\n",
       "      <td>0.036753</td>\n",
       "      <td>0.561249</td>\n",
       "      <td>...</td>\n",
       "      <td>-0.208959</td>\n",
       "      <td>0.581097</td>\n",
       "      <td>0.181664</td>\n",
       "      <td>-1.657891</td>\n",
       "      <td>-2.257331</td>\n",
       "      <td>0.750528</td>\n",
       "      <td>-0.917839</td>\n",
       "      <td>-0.438653</td>\n",
       "      <td>-0.169717</td>\n",
       "      <td>0</td>\n",
       "    </tr>\n",
       "    <tr>\n",
       "      <th>238186</th>\n",
       "      <td>0.037019</td>\n",
       "      <td>0.496919</td>\n",
       "      <td>-0.370223</td>\n",
       "      <td>-0.501387</td>\n",
       "      <td>0.782760</td>\n",
       "      <td>-0.269788</td>\n",
       "      <td>0.636863</td>\n",
       "      <td>0.098192</td>\n",
       "      <td>-0.119490</td>\n",
       "      <td>-0.586144</td>\n",
       "      <td>...</td>\n",
       "      <td>-0.428357</td>\n",
       "      <td>-1.202920</td>\n",
       "      <td>0.133541</td>\n",
       "      <td>0.244662</td>\n",
       "      <td>-0.827696</td>\n",
       "      <td>0.248202</td>\n",
       "      <td>0.511344</td>\n",
       "      <td>0.212940</td>\n",
       "      <td>-0.305292</td>\n",
       "      <td>0</td>\n",
       "    </tr>\n",
       "    <tr>\n",
       "      <th>150562</th>\n",
       "      <td>-0.273165</td>\n",
       "      <td>0.614415</td>\n",
       "      <td>1.154609</td>\n",
       "      <td>1.955969</td>\n",
       "      <td>0.362319</td>\n",
       "      <td>0.752303</td>\n",
       "      <td>0.685400</td>\n",
       "      <td>-0.068090</td>\n",
       "      <td>0.338220</td>\n",
       "      <td>0.514852</td>\n",
       "      <td>...</td>\n",
       "      <td>0.086485</td>\n",
       "      <td>0.611038</td>\n",
       "      <td>-0.116507</td>\n",
       "      <td>0.740024</td>\n",
       "      <td>-1.256918</td>\n",
       "      <td>-0.375422</td>\n",
       "      <td>-0.230441</td>\n",
       "      <td>-0.196713</td>\n",
       "      <td>0.116306</td>\n",
       "      <td>0</td>\n",
       "    </tr>\n",
       "    <tr>\n",
       "      <th>138452</th>\n",
       "      <td>-2.055932</td>\n",
       "      <td>1.149012</td>\n",
       "      <td>-0.283453</td>\n",
       "      <td>-0.020886</td>\n",
       "      <td>-0.620000</td>\n",
       "      <td>-0.360593</td>\n",
       "      <td>-0.352142</td>\n",
       "      <td>1.099978</td>\n",
       "      <td>0.487920</td>\n",
       "      <td>1.122054</td>\n",
       "      <td>...</td>\n",
       "      <td>-0.654427</td>\n",
       "      <td>-0.317444</td>\n",
       "      <td>0.401495</td>\n",
       "      <td>0.109633</td>\n",
       "      <td>0.903141</td>\n",
       "      <td>0.508756</td>\n",
       "      <td>0.710805</td>\n",
       "      <td>-0.977550</td>\n",
       "      <td>-0.250239</td>\n",
       "      <td>0</td>\n",
       "    </tr>\n",
       "    <tr>\n",
       "      <th>...</th>\n",
       "      <td>...</td>\n",
       "      <td>...</td>\n",
       "      <td>...</td>\n",
       "      <td>...</td>\n",
       "      <td>...</td>\n",
       "      <td>...</td>\n",
       "      <td>...</td>\n",
       "      <td>...</td>\n",
       "      <td>...</td>\n",
       "      <td>...</td>\n",
       "      <td>...</td>\n",
       "      <td>...</td>\n",
       "      <td>...</td>\n",
       "      <td>...</td>\n",
       "      <td>...</td>\n",
       "      <td>...</td>\n",
       "      <td>...</td>\n",
       "      <td>...</td>\n",
       "      <td>...</td>\n",
       "      <td>...</td>\n",
       "      <td>...</td>\n",
       "    </tr>\n",
       "    <tr>\n",
       "      <th>119879</th>\n",
       "      <td>0.599118</td>\n",
       "      <td>0.061038</td>\n",
       "      <td>0.323503</td>\n",
       "      <td>0.326017</td>\n",
       "      <td>-0.214728</td>\n",
       "      <td>-0.160001</td>\n",
       "      <td>-0.133583</td>\n",
       "      <td>0.099821</td>\n",
       "      <td>-0.103946</td>\n",
       "      <td>0.072671</td>\n",
       "      <td>...</td>\n",
       "      <td>-0.253262</td>\n",
       "      <td>-0.791350</td>\n",
       "      <td>0.258472</td>\n",
       "      <td>-0.010138</td>\n",
       "      <td>0.175424</td>\n",
       "      <td>0.226522</td>\n",
       "      <td>-0.051835</td>\n",
       "      <td>0.012020</td>\n",
       "      <td>-0.345313</td>\n",
       "      <td>0</td>\n",
       "    </tr>\n",
       "    <tr>\n",
       "      <th>259178</th>\n",
       "      <td>-0.396173</td>\n",
       "      <td>0.087218</td>\n",
       "      <td>-0.753436</td>\n",
       "      <td>-0.876575</td>\n",
       "      <td>1.405808</td>\n",
       "      <td>2.936401</td>\n",
       "      <td>-0.376776</td>\n",
       "      <td>1.139213</td>\n",
       "      <td>0.364724</td>\n",
       "      <td>-0.600662</td>\n",
       "      <td>...</td>\n",
       "      <td>0.050479</td>\n",
       "      <td>-0.026974</td>\n",
       "      <td>0.387264</td>\n",
       "      <td>1.127424</td>\n",
       "      <td>-3.136737</td>\n",
       "      <td>-1.598712</td>\n",
       "      <td>0.163531</td>\n",
       "      <td>0.415216</td>\n",
       "      <td>0.003520</td>\n",
       "      <td>0</td>\n",
       "    </tr>\n",
       "    <tr>\n",
       "      <th>131932</th>\n",
       "      <td>-0.074850</td>\n",
       "      <td>0.601310</td>\n",
       "      <td>1.005500</td>\n",
       "      <td>0.343093</td>\n",
       "      <td>0.253077</td>\n",
       "      <td>-0.611887</td>\n",
       "      <td>0.870300</td>\n",
       "      <td>-0.330988</td>\n",
       "      <td>-0.447196</td>\n",
       "      <td>-0.195393</td>\n",
       "      <td>...</td>\n",
       "      <td>0.071678</td>\n",
       "      <td>0.487927</td>\n",
       "      <td>-0.466320</td>\n",
       "      <td>0.665156</td>\n",
       "      <td>0.455388</td>\n",
       "      <td>-0.826308</td>\n",
       "      <td>-0.300123</td>\n",
       "      <td>-0.594382</td>\n",
       "      <td>-0.337477</td>\n",
       "      <td>0</td>\n",
       "    </tr>\n",
       "    <tr>\n",
       "      <th>146867</th>\n",
       "      <td>-1.505412</td>\n",
       "      <td>1.426053</td>\n",
       "      <td>-1.662785</td>\n",
       "      <td>-2.683097</td>\n",
       "      <td>1.352153</td>\n",
       "      <td>2.047406</td>\n",
       "      <td>-0.381353</td>\n",
       "      <td>1.856688</td>\n",
       "      <td>0.528112</td>\n",
       "      <td>-0.025322</td>\n",
       "      <td>...</td>\n",
       "      <td>-0.453028</td>\n",
       "      <td>-1.443453</td>\n",
       "      <td>0.229520</td>\n",
       "      <td>1.120901</td>\n",
       "      <td>0.613320</td>\n",
       "      <td>0.884044</td>\n",
       "      <td>1.231103</td>\n",
       "      <td>1.017386</td>\n",
       "      <td>-0.349231</td>\n",
       "      <td>0</td>\n",
       "    </tr>\n",
       "    <tr>\n",
       "      <th>121958</th>\n",
       "      <td>0.629591</td>\n",
       "      <td>-0.475291</td>\n",
       "      <td>0.255092</td>\n",
       "      <td>-0.493379</td>\n",
       "      <td>-0.749156</td>\n",
       "      <td>-0.478153</td>\n",
       "      <td>-0.406089</td>\n",
       "      <td>-0.157456</td>\n",
       "      <td>-0.682338</td>\n",
       "      <td>0.498707</td>\n",
       "      <td>...</td>\n",
       "      <td>0.037622</td>\n",
       "      <td>-0.323167</td>\n",
       "      <td>-0.095352</td>\n",
       "      <td>-0.180094</td>\n",
       "      <td>0.556950</td>\n",
       "      <td>-0.815124</td>\n",
       "      <td>0.003014</td>\n",
       "      <td>0.116904</td>\n",
       "      <td>0.098554</td>\n",
       "      <td>0</td>\n",
       "    </tr>\n",
       "  </tbody>\n",
       "</table>\n",
       "<p>227845 rows × 30 columns</p>\n",
       "</div>"
      ],
      "text/plain": [
       "              V1        V2        V3        V4        V5        V6        V7  \\\n",
       "223361  0.998136 -0.230595 -0.207758  0.233183 -0.369046 -0.064700 -0.507624   \n",
       "165061 -0.204716 -0.379665  1.025778 -1.425115 -0.078079  0.126334  0.014517   \n",
       "238186  0.037019  0.496919 -0.370223 -0.501387  0.782760 -0.269788  0.636863   \n",
       "150562 -0.273165  0.614415  1.154609  1.955969  0.362319  0.752303  0.685400   \n",
       "138452 -2.055932  1.149012 -0.283453 -0.020886 -0.620000 -0.360593 -0.352142   \n",
       "...          ...       ...       ...       ...       ...       ...       ...   \n",
       "119879  0.599118  0.061038  0.323503  0.326017 -0.214728 -0.160001 -0.133583   \n",
       "259178 -0.396173  0.087218 -0.753436 -0.876575  1.405808  2.936401 -0.376776   \n",
       "131932 -0.074850  0.601310  1.005500  0.343093  0.253077 -0.611887  0.870300   \n",
       "146867 -1.505412  1.426053 -1.662785 -2.683097  1.352153  2.047406 -0.381353   \n",
       "121958  0.629591 -0.475291  0.255092 -0.493379 -0.749156 -0.478153 -0.406089   \n",
       "\n",
       "              V8        V9       V10  ...       V21       V22       V23  \\\n",
       "223361  0.030137  0.959887 -0.027957  ...  0.324289  1.334304  0.085207   \n",
       "165061 -0.336266  0.036753  0.561249  ... -0.208959  0.581097  0.181664   \n",
       "238186  0.098192 -0.119490 -0.586144  ... -0.428357 -1.202920  0.133541   \n",
       "150562 -0.068090  0.338220  0.514852  ...  0.086485  0.611038 -0.116507   \n",
       "138452  1.099978  0.487920  1.122054  ... -0.654427 -0.317444  0.401495   \n",
       "...          ...       ...       ...  ...       ...       ...       ...   \n",
       "119879  0.099821 -0.103946  0.072671  ... -0.253262 -0.791350  0.258472   \n",
       "259178  1.139213  0.364724 -0.600662  ...  0.050479 -0.026974  0.387264   \n",
       "131932 -0.330988 -0.447196 -0.195393  ...  0.071678  0.487927 -0.466320   \n",
       "146867  1.856688  0.528112 -0.025322  ... -0.453028 -1.443453  0.229520   \n",
       "121958 -0.157456 -0.682338  0.498707  ...  0.037622 -0.323167 -0.095352   \n",
       "\n",
       "             V24       V25       V26       V27       V28    Amount  Class  \n",
       "223361 -0.460007 -0.086325 -0.449541  0.111905 -0.142827 -0.313289      0  \n",
       "165061 -1.657891 -2.257331  0.750528 -0.917839 -0.438653 -0.169717      0  \n",
       "238186  0.244662 -0.827696  0.248202  0.511344  0.212940 -0.305292      0  \n",
       "150562  0.740024 -1.256918 -0.375422 -0.230441 -0.196713  0.116306      0  \n",
       "138452  0.109633  0.903141  0.508756  0.710805 -0.977550 -0.250239      0  \n",
       "...          ...       ...       ...       ...       ...       ...    ...  \n",
       "119879 -0.010138  0.175424  0.226522 -0.051835  0.012020 -0.345313      0  \n",
       "259178  1.127424 -3.136737 -1.598712  0.163531  0.415216  0.003520      0  \n",
       "131932  0.665156  0.455388 -0.826308 -0.300123 -0.594382 -0.337477      0  \n",
       "146867  1.120901  0.613320  0.884044  1.231103  1.017386 -0.349231      0  \n",
       "121958 -0.180094  0.556950 -0.815124  0.003014  0.116904  0.098554      0  \n",
       "\n",
       "[227845 rows x 30 columns]"
      ]
     },
     "execution_count": 23,
     "metadata": {},
     "output_type": "execute_result"
    }
   ],
   "source": [
    "train"
   ]
  },
  {
   "cell_type": "markdown",
   "id": "4c966715",
   "metadata": {},
   "source": [
    "# Dealing with Imbalanced data\n",
    "The key to dealing with an imbalanced dataset is to \"artificially balance\" the data. We can do this by using a number of methods including *synthetic data* which are datapoints created to emulate the real-world data. However, in this case we will be using *resampling* which simply repeats cases within the \"minority\" class until we've reached the desired amount of datapoints. In practice, resampling usually has a better result than synthetic data when balancing the dataset. In addition to resampling the minority class (*fraud*) we will also reduce the number of samples from the majority class since there are excessively more datapoints than needed. Technically, we are *upsampling* the minority and *downsampling* the majority class"
   ]
  },
  {
   "cell_type": "code",
   "execution_count": 24,
   "id": "9e304f7e",
   "metadata": {},
   "outputs": [],
   "source": [
    "train_valid = train[train['Class']==0]\n",
    "train_fraud = train[train['Class']==1]"
   ]
  },
  {
   "cell_type": "code",
   "execution_count": 25,
   "id": "54a9a57e",
   "metadata": {},
   "outputs": [],
   "source": [
    "from sklearn.utils import resample\n",
    "train_valid_downsampled = resample(train_valid,\n",
    "                                 replace=False,\n",
    "                                 n_samples=50000,\n",
    "                                 random_state=42)\n",
    "\n",
    "train_fraud_upsampled = resample(train_fraud,\n",
    "                               replace=True,\n",
    "                               n_samples=50000,\n",
    "                               random_state=42)"
   ]
  },
  {
   "cell_type": "code",
   "execution_count": 26,
   "id": "c53edb71",
   "metadata": {},
   "outputs": [],
   "source": [
    "train_balanced = pd.concat([train_valid_downsampled,train_fraud_upsampled])"
   ]
  },
  {
   "cell_type": "code",
   "execution_count": 27,
   "id": "535ff65f",
   "metadata": {},
   "outputs": [
    {
     "name": "stdout",
     "output_type": "stream",
     "text": [
      "<class 'pandas.core.frame.DataFrame'>\n",
      "Int64Index: 100000 entries, 106396 to 16415\n",
      "Data columns (total 30 columns):\n",
      " #   Column  Non-Null Count   Dtype  \n",
      "---  ------  --------------   -----  \n",
      " 0   V1      100000 non-null  float64\n",
      " 1   V2      100000 non-null  float64\n",
      " 2   V3      100000 non-null  float64\n",
      " 3   V4      100000 non-null  float64\n",
      " 4   V5      100000 non-null  float64\n",
      " 5   V6      100000 non-null  float64\n",
      " 6   V7      100000 non-null  float64\n",
      " 7   V8      100000 non-null  float64\n",
      " 8   V9      100000 non-null  float64\n",
      " 9   V10     100000 non-null  float64\n",
      " 10  V11     100000 non-null  float64\n",
      " 11  V12     100000 non-null  float64\n",
      " 12  V13     100000 non-null  float64\n",
      " 13  V14     100000 non-null  float64\n",
      " 14  V15     100000 non-null  float64\n",
      " 15  V16     100000 non-null  float64\n",
      " 16  V17     100000 non-null  float64\n",
      " 17  V18     100000 non-null  float64\n",
      " 18  V19     100000 non-null  float64\n",
      " 19  V20     100000 non-null  float64\n",
      " 20  V21     100000 non-null  float64\n",
      " 21  V22     100000 non-null  float64\n",
      " 22  V23     100000 non-null  float64\n",
      " 23  V24     100000 non-null  float64\n",
      " 24  V25     100000 non-null  float64\n",
      " 25  V26     100000 non-null  float64\n",
      " 26  V27     100000 non-null  float64\n",
      " 27  V28     100000 non-null  float64\n",
      " 28  Amount  100000 non-null  float64\n",
      " 29  Class   100000 non-null  int64  \n",
      "dtypes: float64(29), int64(1)\n",
      "memory usage: 23.7 MB\n"
     ]
    }
   ],
   "source": [
    "train_balanced.info()"
   ]
  },
  {
   "cell_type": "code",
   "execution_count": 28,
   "id": "ff360645",
   "metadata": {},
   "outputs": [
    {
     "data": {
      "text/html": [
       "<div>\n",
       "<style scoped>\n",
       "    .dataframe tbody tr th:only-of-type {\n",
       "        vertical-align: middle;\n",
       "    }\n",
       "\n",
       "    .dataframe tbody tr th {\n",
       "        vertical-align: top;\n",
       "    }\n",
       "\n",
       "    .dataframe thead th {\n",
       "        text-align: right;\n",
       "    }\n",
       "</style>\n",
       "<table border=\"1\" class=\"dataframe\">\n",
       "  <thead>\n",
       "    <tr style=\"text-align: right;\">\n",
       "      <th></th>\n",
       "      <th>V1</th>\n",
       "      <th>V2</th>\n",
       "      <th>V3</th>\n",
       "      <th>V4</th>\n",
       "      <th>V5</th>\n",
       "      <th>V6</th>\n",
       "      <th>V7</th>\n",
       "      <th>V8</th>\n",
       "      <th>V9</th>\n",
       "      <th>V10</th>\n",
       "      <th>...</th>\n",
       "      <th>V21</th>\n",
       "      <th>V22</th>\n",
       "      <th>V23</th>\n",
       "      <th>V24</th>\n",
       "      <th>V25</th>\n",
       "      <th>V26</th>\n",
       "      <th>V27</th>\n",
       "      <th>V28</th>\n",
       "      <th>Amount</th>\n",
       "      <th>Class</th>\n",
       "    </tr>\n",
       "  </thead>\n",
       "  <tbody>\n",
       "    <tr>\n",
       "      <th>106396</th>\n",
       "      <td>0.655648</td>\n",
       "      <td>-0.303677</td>\n",
       "      <td>-0.235471</td>\n",
       "      <td>-1.486876</td>\n",
       "      <td>-0.318031</td>\n",
       "      <td>-0.756759</td>\n",
       "      <td>0.078350</td>\n",
       "      <td>-0.247361</td>\n",
       "      <td>1.757172</td>\n",
       "      <td>-1.504425</td>\n",
       "      <td>...</td>\n",
       "      <td>-0.275574</td>\n",
       "      <td>-0.541909</td>\n",
       "      <td>-0.332535</td>\n",
       "      <td>-0.670019</td>\n",
       "      <td>1.567732</td>\n",
       "      <td>-1.765457</td>\n",
       "      <td>0.147081</td>\n",
       "      <td>0.071628</td>\n",
       "      <td>-0.125298</td>\n",
       "      <td>0</td>\n",
       "    </tr>\n",
       "    <tr>\n",
       "      <th>238046</th>\n",
       "      <td>0.079341</td>\n",
       "      <td>-0.023818</td>\n",
       "      <td>-0.371595</td>\n",
       "      <td>-0.337713</td>\n",
       "      <td>0.713986</td>\n",
       "      <td>0.645005</td>\n",
       "      <td>0.467172</td>\n",
       "      <td>0.317881</td>\n",
       "      <td>0.021823</td>\n",
       "      <td>-0.368429</td>\n",
       "      <td>...</td>\n",
       "      <td>0.690491</td>\n",
       "      <td>1.937063</td>\n",
       "      <td>0.220528</td>\n",
       "      <td>-2.368515</td>\n",
       "      <td>-0.999696</td>\n",
       "      <td>-0.102292</td>\n",
       "      <td>0.121640</td>\n",
       "      <td>-0.092600</td>\n",
       "      <td>-0.003277</td>\n",
       "      <td>0</td>\n",
       "    </tr>\n",
       "    <tr>\n",
       "      <th>107344</th>\n",
       "      <td>0.579916</td>\n",
       "      <td>0.018139</td>\n",
       "      <td>0.213075</td>\n",
       "      <td>0.800421</td>\n",
       "      <td>-0.126470</td>\n",
       "      <td>0.003435</td>\n",
       "      <td>-0.119873</td>\n",
       "      <td>0.051881</td>\n",
       "      <td>0.257640</td>\n",
       "      <td>0.012740</td>\n",
       "      <td>...</td>\n",
       "      <td>0.266571</td>\n",
       "      <td>0.762727</td>\n",
       "      <td>-0.341338</td>\n",
       "      <td>-0.701531</td>\n",
       "      <td>1.229444</td>\n",
       "      <td>-0.260052</td>\n",
       "      <td>0.084639</td>\n",
       "      <td>0.064992</td>\n",
       "      <td>-0.178673</td>\n",
       "      <td>0</td>\n",
       "    </tr>\n",
       "    <tr>\n",
       "      <th>274061</th>\n",
       "      <td>1.017430</td>\n",
       "      <td>0.087677</td>\n",
       "      <td>-1.067633</td>\n",
       "      <td>0.995923</td>\n",
       "      <td>0.270666</td>\n",
       "      <td>-0.865005</td>\n",
       "      <td>0.519415</td>\n",
       "      <td>-0.336997</td>\n",
       "      <td>0.235010</td>\n",
       "      <td>0.239608</td>\n",
       "      <td>...</td>\n",
       "      <td>0.077123</td>\n",
       "      <td>0.458734</td>\n",
       "      <td>-0.021464</td>\n",
       "      <td>-0.028584</td>\n",
       "      <td>0.840665</td>\n",
       "      <td>-1.016408</td>\n",
       "      <td>-0.051189</td>\n",
       "      <td>-0.180707</td>\n",
       "      <td>-0.245281</td>\n",
       "      <td>0</td>\n",
       "    </tr>\n",
       "    <tr>\n",
       "      <th>271673</th>\n",
       "      <td>-0.196790</td>\n",
       "      <td>0.407454</td>\n",
       "      <td>0.651174</td>\n",
       "      <td>-0.670217</td>\n",
       "      <td>0.536490</td>\n",
       "      <td>-0.112661</td>\n",
       "      <td>0.869230</td>\n",
       "      <td>-0.234387</td>\n",
       "      <td>0.336879</td>\n",
       "      <td>-0.739347</td>\n",
       "      <td>...</td>\n",
       "      <td>0.011455</td>\n",
       "      <td>0.423437</td>\n",
       "      <td>-0.909289</td>\n",
       "      <td>1.084801</td>\n",
       "      <td>2.035317</td>\n",
       "      <td>0.561785</td>\n",
       "      <td>-0.965423</td>\n",
       "      <td>-0.908920</td>\n",
       "      <td>-0.313249</td>\n",
       "      <td>0</td>\n",
       "    </tr>\n",
       "  </tbody>\n",
       "</table>\n",
       "<p>5 rows × 30 columns</p>\n",
       "</div>"
      ],
      "text/plain": [
       "              V1        V2        V3        V4        V5        V6        V7  \\\n",
       "106396  0.655648 -0.303677 -0.235471 -1.486876 -0.318031 -0.756759  0.078350   \n",
       "238046  0.079341 -0.023818 -0.371595 -0.337713  0.713986  0.645005  0.467172   \n",
       "107344  0.579916  0.018139  0.213075  0.800421 -0.126470  0.003435 -0.119873   \n",
       "274061  1.017430  0.087677 -1.067633  0.995923  0.270666 -0.865005  0.519415   \n",
       "271673 -0.196790  0.407454  0.651174 -0.670217  0.536490 -0.112661  0.869230   \n",
       "\n",
       "              V8        V9       V10  ...       V21       V22       V23  \\\n",
       "106396 -0.247361  1.757172 -1.504425  ... -0.275574 -0.541909 -0.332535   \n",
       "238046  0.317881  0.021823 -0.368429  ...  0.690491  1.937063  0.220528   \n",
       "107344  0.051881  0.257640  0.012740  ...  0.266571  0.762727 -0.341338   \n",
       "274061 -0.336997  0.235010  0.239608  ...  0.077123  0.458734 -0.021464   \n",
       "271673 -0.234387  0.336879 -0.739347  ...  0.011455  0.423437 -0.909289   \n",
       "\n",
       "             V24       V25       V26       V27       V28    Amount  Class  \n",
       "106396 -0.670019  1.567732 -1.765457  0.147081  0.071628 -0.125298      0  \n",
       "238046 -2.368515 -0.999696 -0.102292  0.121640 -0.092600 -0.003277      0  \n",
       "107344 -0.701531  1.229444 -0.260052  0.084639  0.064992 -0.178673      0  \n",
       "274061 -0.028584  0.840665 -1.016408 -0.051189 -0.180707 -0.245281      0  \n",
       "271673  1.084801  2.035317  0.561785 -0.965423 -0.908920 -0.313249      0  \n",
       "\n",
       "[5 rows x 30 columns]"
      ]
     },
     "execution_count": 28,
     "metadata": {},
     "output_type": "execute_result"
    }
   ],
   "source": [
    "train_balanced.head()"
   ]
  },
  {
   "cell_type": "code",
   "execution_count": 29,
   "id": "5ef5e0f7",
   "metadata": {},
   "outputs": [
    {
     "data": {
      "text/plain": [
       "<AxesSubplot:xlabel='Class', ylabel='count'>"
      ]
     },
     "execution_count": 29,
     "metadata": {},
     "output_type": "execute_result"
    },
    {
     "data": {
      "image/png": "[encoded data removed]",
      "text/plain": [
       "<Figure size 432x288 with 1 Axes>"
      ]
     },
     "metadata": {
      "needs_background": "light"
     },
     "output_type": "display_data"
    }
   ],
   "source": [
    "#balanced dataset after resampling\n",
    "sns.countplot(x='Class',data=train_balanced)"
   ]
  },
  {
   "cell_type": "markdown",
   "id": "7a1355df",
   "metadata": {},
   "source": [
    "# Random Forest\n",
    "We choose the random forest algorithm as its hierarchical structure is well-suited to the task of an imbalanced dataset. Other potential alternatives are generally other semi-related ensemble methods such as the gradient boost family of algorithms including adaboost. Random Forest is an efficient and simple algorithm to run that has a reputation of strong performance on this very task"
   ]
  },
  {
   "cell_type": "code",
   "execution_count": 30,
   "id": "f1ea14e5",
   "metadata": {},
   "outputs": [],
   "source": [
    "from sklearn.ensemble import RandomForestClassifier\n",
    "randforest = RandomForestClassifier()"
   ]
  },
  {
   "cell_type": "markdown",
   "id": "b7e4cfbd",
   "metadata": {},
   "source": [
    "## Hyperparameter Tuning\n",
    "We will need to select from a number of hyperparameters for [Random Forest](https://tinyurl.com/random-forest-sklearn). The most important of which are as follows:\n",
    "\n",
    "* **n_estimators**: The number of trees in the forest.\n",
    "* **max_depth**: The maximum depth of the tree. If None, then nodes are expanded until all leaves are pure or until all leaves contain less than min_samples_split samples.\n",
    "* **min_samples_split**: The minimum number of samples required to split an internal node\n",
    "* **min_samples_leaf**: The minimum number of samples required to be at a leaf node. A split point at any depth will only be considered if it leaves at least min_samples_leaf training samples in each of the left and right branches. This may have the effect of smoothing the model, especially in regression.\n",
    "\n",
    "To help us select appropriate hyperparameter settings we will use **RandomizedSearchCV** to quickly run through a number of parameters. We will then follow-up this process using **GridSearchCV** in a more focused hyperparameter search"
   ]
  },
  {
   "cell_type": "code",
   "execution_count": 31,
   "id": "d52fcd9e",
   "metadata": {},
   "outputs": [],
   "source": [
    "from sklearn.model_selection import RandomizedSearchCV, GridSearchCV"
   ]
  },
  {
   "cell_type": "code",
   "execution_count": 32,
   "id": "a758e4d5",
   "metadata": {},
   "outputs": [],
   "source": [
    "rand_range = [i for i in range(2,11)]\n",
    "\n",
    "param_distributions = {'n_estimators':rand_range,\n",
    "                       'max_depth':rand_range,\n",
    "                       'min_samples_split':rand_range,\n",
    "                       'min_samples_leaf':rand_range}"
   ]
  },
  {
   "cell_type": "code",
   "execution_count": 33,
   "id": "c0fa9ff5",
   "metadata": {},
   "outputs": [],
   "source": [
    "rand_grid = RandomizedSearchCV(estimator=randforest,\n",
    "                               param_distributions=param_distributions,\n",
    "                               n_iter=50,\n",
    "                               cv=10,\n",
    "                               random_state=42,\n",
    "                               n_jobs=10,\n",
    "                               verbose=2)"
   ]
  },
  {
   "cell_type": "code",
   "execution_count": 34,
   "id": "a18027de",
   "metadata": {},
   "outputs": [],
   "source": [
    "X_train = train_balanced.drop(\"Class\", axis=1)\n",
    "y_train = train_balanced[\"Class\"]"
   ]
  },
  {
   "cell_type": "code",
   "execution_count": 35,
   "id": "82828007",
   "metadata": {},
   "outputs": [
    {
     "name": "stdout",
     "output_type": "stream",
     "text": [
      "Fitting 10 folds for each of 50 candidates, totalling 500 fits\n",
      "Wall time: 57.8 s\n"
     ]
    },
    {
     "data": {
      "text/plain": [
       "RandomizedSearchCV(cv=10, estimator=RandomForestClassifier(), n_iter=50,\n",
       "                   n_jobs=10,\n",
       "                   param_distributions={'max_depth': [2, 3, 4, 5, 6, 7, 8, 9,\n",
       "                                                      10],\n",
       "                                        'min_samples_leaf': [2, 3, 4, 5, 6, 7,\n",
       "                                                             8, 9, 10],\n",
       "                                        'min_samples_split': [2, 3, 4, 5, 6, 7,\n",
       "                                                              8, 9, 10],\n",
       "                                        'n_estimators': [2, 3, 4, 5, 6, 7, 8, 9,\n",
       "                                                         10]},\n",
       "                   random_state=42, verbose=2)"
      ]
     },
     "execution_count": 35,
     "metadata": {},
     "output_type": "execute_result"
    }
   ],
   "source": [
    "%%time\n",
    "rand_grid.fit(X_train,y_train)"
   ]
  },
  {
   "cell_type": "code",
   "execution_count": 36,
   "id": "d5249083",
   "metadata": {},
   "outputs": [
    {
     "name": "stdout",
     "output_type": "stream",
     "text": [
      "Best Estimator: RandomForestClassifier(max_depth=10, min_samples_leaf=8, min_samples_split=10,\n",
      "                       n_estimators=8)\n",
      "\n",
      "Best Estimator: {'n_estimators': 8, 'min_samples_split': 10, 'min_samples_leaf': 8, 'max_depth': 10}\n",
      "\n",
      "Best Score: 0.99413\n"
     ]
    }
   ],
   "source": [
    "print(f'Best Estimator: {rand_grid.best_estimator_}\\n')\n",
    "print(f'Best Estimator: {rand_grid.best_params_}\\n')\n",
    "print(f'Best Score: {rand_grid.best_score_}')"
   ]
  },
  {
   "cell_type": "code",
   "execution_count": 37,
   "id": "ed1c3691",
   "metadata": {},
   "outputs": [
    {
     "data": {
      "text/html": [
       "<div>\n",
       "<style scoped>\n",
       "    .dataframe tbody tr th:only-of-type {\n",
       "        vertical-align: middle;\n",
       "    }\n",
       "\n",
       "    .dataframe tbody tr th {\n",
       "        vertical-align: top;\n",
       "    }\n",
       "\n",
       "    .dataframe thead th {\n",
       "        text-align: right;\n",
       "    }\n",
       "</style>\n",
       "<table border=\"1\" class=\"dataframe\">\n",
       "  <thead>\n",
       "    <tr style=\"text-align: right;\">\n",
       "      <th></th>\n",
       "      <th>mean_fit_time</th>\n",
       "      <th>std_fit_time</th>\n",
       "      <th>mean_score_time</th>\n",
       "      <th>std_score_time</th>\n",
       "      <th>param_n_estimators</th>\n",
       "      <th>param_min_samples_split</th>\n",
       "      <th>param_min_samples_leaf</th>\n",
       "      <th>param_max_depth</th>\n",
       "      <th>params</th>\n",
       "      <th>split0_test_score</th>\n",
       "      <th>...</th>\n",
       "      <th>split3_test_score</th>\n",
       "      <th>split4_test_score</th>\n",
       "      <th>split5_test_score</th>\n",
       "      <th>split6_test_score</th>\n",
       "      <th>split7_test_score</th>\n",
       "      <th>split8_test_score</th>\n",
       "      <th>split9_test_score</th>\n",
       "      <th>mean_test_score</th>\n",
       "      <th>std_test_score</th>\n",
       "      <th>rank_test_score</th>\n",
       "    </tr>\n",
       "  </thead>\n",
       "  <tbody>\n",
       "    <tr>\n",
       "      <th>0</th>\n",
       "      <td>0.772678</td>\n",
       "      <td>0.023890</td>\n",
       "      <td>0.011403</td>\n",
       "      <td>0.004229</td>\n",
       "      <td>7</td>\n",
       "      <td>7</td>\n",
       "      <td>3</td>\n",
       "      <td>3</td>\n",
       "      <td>{'n_estimators': 7, 'min_samples_split': 7, 'm...</td>\n",
       "      <td>0.9307</td>\n",
       "      <td>...</td>\n",
       "      <td>0.9376</td>\n",
       "      <td>0.9337</td>\n",
       "      <td>0.9395</td>\n",
       "      <td>0.9318</td>\n",
       "      <td>0.9401</td>\n",
       "      <td>0.9378</td>\n",
       "      <td>0.9367</td>\n",
       "      <td>0.93653</td>\n",
       "      <td>0.003178</td>\n",
       "      <td>41</td>\n",
       "    </tr>\n",
       "    <tr>\n",
       "      <th>1</th>\n",
       "      <td>2.282662</td>\n",
       "      <td>0.050035</td>\n",
       "      <td>0.015801</td>\n",
       "      <td>0.002892</td>\n",
       "      <td>10</td>\n",
       "      <td>6</td>\n",
       "      <td>5</td>\n",
       "      <td>9</td>\n",
       "      <td>{'n_estimators': 10, 'min_samples_split': 6, '...</td>\n",
       "      <td>0.9871</td>\n",
       "      <td>...</td>\n",
       "      <td>0.9828</td>\n",
       "      <td>0.9949</td>\n",
       "      <td>0.9899</td>\n",
       "      <td>0.9912</td>\n",
       "      <td>0.9906</td>\n",
       "      <td>0.9889</td>\n",
       "      <td>0.9938</td>\n",
       "      <td>0.99014</td>\n",
       "      <td>0.003398</td>\n",
       "      <td>8</td>\n",
       "    </tr>\n",
       "    <tr>\n",
       "      <th>2</th>\n",
       "      <td>1.836377</td>\n",
       "      <td>0.050873</td>\n",
       "      <td>0.013400</td>\n",
       "      <td>0.001960</td>\n",
       "      <td>8</td>\n",
       "      <td>6</td>\n",
       "      <td>3</td>\n",
       "      <td>9</td>\n",
       "      <td>{'n_estimators': 8, 'min_samples_split': 6, 'm...</td>\n",
       "      <td>0.9838</td>\n",
       "      <td>...</td>\n",
       "      <td>0.9863</td>\n",
       "      <td>0.9917</td>\n",
       "      <td>0.9886</td>\n",
       "      <td>0.9933</td>\n",
       "      <td>0.9880</td>\n",
       "      <td>0.9898</td>\n",
       "      <td>0.9847</td>\n",
       "      <td>0.98921</td>\n",
       "      <td>0.003388</td>\n",
       "      <td>10</td>\n",
       "    </tr>\n",
       "    <tr>\n",
       "      <th>3</th>\n",
       "      <td>2.121192</td>\n",
       "      <td>0.048780</td>\n",
       "      <td>0.011701</td>\n",
       "      <td>0.002052</td>\n",
       "      <td>9</td>\n",
       "      <td>2</td>\n",
       "      <td>3</td>\n",
       "      <td>9</td>\n",
       "      <td>{'n_estimators': 9, 'min_samples_split': 2, 'm...</td>\n",
       "      <td>0.9931</td>\n",
       "      <td>...</td>\n",
       "      <td>0.9918</td>\n",
       "      <td>0.9927</td>\n",
       "      <td>0.9853</td>\n",
       "      <td>0.9919</td>\n",
       "      <td>0.9924</td>\n",
       "      <td>0.9893</td>\n",
       "      <td>0.9899</td>\n",
       "      <td>0.99131</td>\n",
       "      <td>0.002413</td>\n",
       "      <td>5</td>\n",
       "    </tr>\n",
       "    <tr>\n",
       "      <th>4</th>\n",
       "      <td>0.609471</td>\n",
       "      <td>0.028817</td>\n",
       "      <td>0.007499</td>\n",
       "      <td>0.001858</td>\n",
       "      <td>3</td>\n",
       "      <td>7</td>\n",
       "      <td>3</td>\n",
       "      <td>7</td>\n",
       "      <td>{'n_estimators': 3, 'min_samples_split': 7, 'm...</td>\n",
       "      <td>0.9680</td>\n",
       "      <td>...</td>\n",
       "      <td>0.9780</td>\n",
       "      <td>0.9765</td>\n",
       "      <td>0.9690</td>\n",
       "      <td>0.9734</td>\n",
       "      <td>0.9741</td>\n",
       "      <td>0.9735</td>\n",
       "      <td>0.9696</td>\n",
       "      <td>0.97303</td>\n",
       "      <td>0.003400</td>\n",
       "      <td>20</td>\n",
       "    </tr>\n",
       "  </tbody>\n",
       "</table>\n",
       "<p>5 rows × 22 columns</p>\n",
       "</div>"
      ],
      "text/plain": [
       "   mean_fit_time  std_fit_time  mean_score_time  std_score_time  \\\n",
       "0       0.772678      0.023890         0.011403        0.004229   \n",
       "1       2.282662      0.050035         0.015801        0.002892   \n",
       "2       1.836377      0.050873         0.013400        0.001960   \n",
       "3       2.121192      0.048780         0.011701        0.002052   \n",
       "4       0.609471      0.028817         0.007499        0.001858   \n",
       "\n",
       "  param_n_estimators param_min_samples_split param_min_samples_leaf  \\\n",
       "0                  7                       7                      3   \n",
       "1                 10                       6                      5   \n",
       "2                  8                       6                      3   \n",
       "3                  9                       2                      3   \n",
       "4                  3                       7                      3   \n",
       "\n",
       "  param_max_depth                                             params  \\\n",
       "0               3  {'n_estimators': 7, 'min_samples_split': 7, 'm...   \n",
       "1               9  {'n_estimators': 10, 'min_samples_split': 6, '...   \n",
       "2               9  {'n_estimators': 8, 'min_samples_split': 6, 'm...   \n",
       "3               9  {'n_estimators': 9, 'min_samples_split': 2, 'm...   \n",
       "4               7  {'n_estimators': 3, 'min_samples_split': 7, 'm...   \n",
       "\n",
       "   split0_test_score  ...  split3_test_score  split4_test_score  \\\n",
       "0             0.9307  ...             0.9376             0.9337   \n",
       "1             0.9871  ...             0.9828             0.9949   \n",
       "2             0.9838  ...             0.9863             0.9917   \n",
       "3             0.9931  ...             0.9918             0.9927   \n",
       "4             0.9680  ...             0.9780             0.9765   \n",
       "\n",
       "   split5_test_score  split6_test_score  split7_test_score  split8_test_score  \\\n",
       "0             0.9395             0.9318             0.9401             0.9378   \n",
       "1             0.9899             0.9912             0.9906             0.9889   \n",
       "2             0.9886             0.9933             0.9880             0.9898   \n",
       "3             0.9853             0.9919             0.9924             0.9893   \n",
       "4             0.9690             0.9734             0.9741             0.9735   \n",
       "\n",
       "   split9_test_score  mean_test_score  std_test_score  rank_test_score  \n",
       "0             0.9367          0.93653        0.003178               41  \n",
       "1             0.9938          0.99014        0.003398                8  \n",
       "2             0.9847          0.98921        0.003388               10  \n",
       "3             0.9899          0.99131        0.002413                5  \n",
       "4             0.9696          0.97303        0.003400               20  \n",
       "\n",
       "[5 rows x 22 columns]"
      ]
     },
     "execution_count": 37,
     "metadata": {},
     "output_type": "execute_result"
    }
   ],
   "source": [
    "rand_results = pd.DataFrame(rand_grid.cv_results_)\n",
    "rand_results.head()"
   ]
  },
  {
   "cell_type": "code",
   "execution_count": 38,
   "id": "0990ecb5",
   "metadata": {},
   "outputs": [
    {
     "data": {
      "text/plain": [
       "<seaborn.axisgrid.PairGrid at 0x1b9913a08e0>"
      ]
     },
     "execution_count": 38,
     "metadata": {},
     "output_type": "execute_result"
    },
    {
     "data": {
      "image/png": "[encoded data removed]",
      "text/plain": [
       "<Figure size 864x360 with 4 Axes>"
      ]
     },
     "metadata": {
      "needs_background": "light"
     },
     "output_type": "display_data"
    }
   ],
   "source": [
    "params = ['param_max_depth', \n",
    "          'param_min_samples_leaf', \n",
    "          'param_min_samples_split',\n",
    "          'param_n_estimators']\n",
    "\n",
    "g = sns.PairGrid(data=rand_results, x_vars=params,y_vars='mean_test_score',height=5, aspect=.6)\n",
    "g.map(sns.lineplot)"
   ]
  },
  {
   "cell_type": "code",
   "execution_count": 39,
   "id": "17418ae8",
   "metadata": {},
   "outputs": [],
   "source": [
    "max_depth = [i for i in range(8,12)]\n",
    "min_samples_split = [5, 8, 10]\n",
    "min_samples_leaf = [4, 6, 9, 10]\n",
    "n_estimators = [3, 5, 8, 10]\n",
    "\n",
    "param_grid = {'max_depth':max_depth,\n",
    "             'min_samples_split':min_samples_split,\n",
    "             'min_samples_leaf':min_samples_leaf,\n",
    "             'n_estimators':n_estimators,}"
   ]
  },
  {
   "cell_type": "code",
   "execution_count": 40,
   "id": "42bebfa7",
   "metadata": {},
   "outputs": [],
   "source": [
    "gridcv = GridSearchCV(estimator=randforest,\n",
    "                      param_grid=param_grid,\n",
    "                      cv=10,\n",
    "                      n_jobs=10,\n",
    "                      verbose=2)"
   ]
  },
  {
   "cell_type": "code",
   "execution_count": 41,
   "id": "a5a1a62e",
   "metadata": {},
   "outputs": [
    {
     "name": "stdout",
     "output_type": "stream",
     "text": [
      "Fitting 10 folds for each of 192 candidates, totalling 1920 fits\n",
      "Wall time: 5min 16s\n"
     ]
    },
    {
     "data": {
      "text/plain": [
       "GridSearchCV(cv=10, estimator=RandomForestClassifier(), n_jobs=10,\n",
       "             param_grid={'max_depth': [8, 9, 10, 11],\n",
       "                         'min_samples_leaf': [4, 6, 9, 10],\n",
       "                         'min_samples_split': [5, 8, 10],\n",
       "                         'n_estimators': [3, 5, 8, 10]},\n",
       "             verbose=2)"
      ]
     },
     "execution_count": 41,
     "metadata": {},
     "output_type": "execute_result"
    }
   ],
   "source": [
    "%%time\n",
    "gridcv.fit(X_train,y_train)"
   ]
  },
  {
   "cell_type": "code",
   "execution_count": 42,
   "id": "f6540b46",
   "metadata": {},
   "outputs": [
    {
     "data": {
      "text/html": [
       "<div>\n",
       "<style scoped>\n",
       "    .dataframe tbody tr th:only-of-type {\n",
       "        vertical-align: middle;\n",
       "    }\n",
       "\n",
       "    .dataframe tbody tr th {\n",
       "        vertical-align: top;\n",
       "    }\n",
       "\n",
       "    .dataframe thead th {\n",
       "        text-align: right;\n",
       "    }\n",
       "</style>\n",
       "<table border=\"1\" class=\"dataframe\">\n",
       "  <thead>\n",
       "    <tr style=\"text-align: right;\">\n",
       "      <th></th>\n",
       "      <th>mean_fit_time</th>\n",
       "      <th>std_fit_time</th>\n",
       "      <th>mean_score_time</th>\n",
       "      <th>std_score_time</th>\n",
       "      <th>param_max_depth</th>\n",
       "      <th>param_min_samples_leaf</th>\n",
       "      <th>param_min_samples_split</th>\n",
       "      <th>param_n_estimators</th>\n",
       "      <th>params</th>\n",
       "      <th>split0_test_score</th>\n",
       "      <th>...</th>\n",
       "      <th>split3_test_score</th>\n",
       "      <th>split4_test_score</th>\n",
       "      <th>split5_test_score</th>\n",
       "      <th>split6_test_score</th>\n",
       "      <th>split7_test_score</th>\n",
       "      <th>split8_test_score</th>\n",
       "      <th>split9_test_score</th>\n",
       "      <th>mean_test_score</th>\n",
       "      <th>std_test_score</th>\n",
       "      <th>rank_test_score</th>\n",
       "    </tr>\n",
       "  </thead>\n",
       "  <tbody>\n",
       "    <tr>\n",
       "      <th>0</th>\n",
       "      <td>0.770576</td>\n",
       "      <td>0.009892</td>\n",
       "      <td>0.008866</td>\n",
       "      <td>0.001741</td>\n",
       "      <td>8</td>\n",
       "      <td>4</td>\n",
       "      <td>5</td>\n",
       "      <td>3</td>\n",
       "      <td>{'max_depth': 8, 'min_samples_leaf': 4, 'min_s...</td>\n",
       "      <td>0.9891</td>\n",
       "      <td>...</td>\n",
       "      <td>0.9839</td>\n",
       "      <td>0.9819</td>\n",
       "      <td>0.9887</td>\n",
       "      <td>0.9883</td>\n",
       "      <td>0.9824</td>\n",
       "      <td>0.9699</td>\n",
       "      <td>0.9771</td>\n",
       "      <td>0.98175</td>\n",
       "      <td>0.005985</td>\n",
       "      <td>177</td>\n",
       "    </tr>\n",
       "    <tr>\n",
       "      <th>1</th>\n",
       "      <td>1.110764</td>\n",
       "      <td>0.018235</td>\n",
       "      <td>0.008755</td>\n",
       "      <td>0.001736</td>\n",
       "      <td>8</td>\n",
       "      <td>4</td>\n",
       "      <td>5</td>\n",
       "      <td>5</td>\n",
       "      <td>{'max_depth': 8, 'min_samples_leaf': 4, 'min_s...</td>\n",
       "      <td>0.9870</td>\n",
       "      <td>...</td>\n",
       "      <td>0.9800</td>\n",
       "      <td>0.9810</td>\n",
       "      <td>0.9868</td>\n",
       "      <td>0.9829</td>\n",
       "      <td>0.9835</td>\n",
       "      <td>0.9806</td>\n",
       "      <td>0.9775</td>\n",
       "      <td>0.98241</td>\n",
       "      <td>0.003454</td>\n",
       "      <td>170</td>\n",
       "    </tr>\n",
       "    <tr>\n",
       "      <th>2</th>\n",
       "      <td>1.731496</td>\n",
       "      <td>0.037565</td>\n",
       "      <td>0.012847</td>\n",
       "      <td>0.001743</td>\n",
       "      <td>8</td>\n",
       "      <td>4</td>\n",
       "      <td>5</td>\n",
       "      <td>8</td>\n",
       "      <td>{'max_depth': 8, 'min_samples_leaf': 4, 'min_s...</td>\n",
       "      <td>0.9823</td>\n",
       "      <td>...</td>\n",
       "      <td>0.9788</td>\n",
       "      <td>0.9881</td>\n",
       "      <td>0.9908</td>\n",
       "      <td>0.9818</td>\n",
       "      <td>0.9797</td>\n",
       "      <td>0.9852</td>\n",
       "      <td>0.9794</td>\n",
       "      <td>0.98339</td>\n",
       "      <td>0.003831</td>\n",
       "      <td>160</td>\n",
       "    </tr>\n",
       "    <tr>\n",
       "      <th>3</th>\n",
       "      <td>2.106929</td>\n",
       "      <td>0.034568</td>\n",
       "      <td>0.013668</td>\n",
       "      <td>0.002333</td>\n",
       "      <td>8</td>\n",
       "      <td>4</td>\n",
       "      <td>5</td>\n",
       "      <td>10</td>\n",
       "      <td>{'max_depth': 8, 'min_samples_leaf': 4, 'min_s...</td>\n",
       "      <td>0.9859</td>\n",
       "      <td>...</td>\n",
       "      <td>0.9843</td>\n",
       "      <td>0.9863</td>\n",
       "      <td>0.9821</td>\n",
       "      <td>0.9849</td>\n",
       "      <td>0.9801</td>\n",
       "      <td>0.9856</td>\n",
       "      <td>0.9828</td>\n",
       "      <td>0.98416</td>\n",
       "      <td>0.002273</td>\n",
       "      <td>150</td>\n",
       "    </tr>\n",
       "    <tr>\n",
       "      <th>4</th>\n",
       "      <td>0.679191</td>\n",
       "      <td>0.019961</td>\n",
       "      <td>0.006776</td>\n",
       "      <td>0.001107</td>\n",
       "      <td>8</td>\n",
       "      <td>4</td>\n",
       "      <td>8</td>\n",
       "      <td>3</td>\n",
       "      <td>{'max_depth': 8, 'min_samples_leaf': 4, 'min_s...</td>\n",
       "      <td>0.9808</td>\n",
       "      <td>...</td>\n",
       "      <td>0.9860</td>\n",
       "      <td>0.9800</td>\n",
       "      <td>0.9821</td>\n",
       "      <td>0.9747</td>\n",
       "      <td>0.9821</td>\n",
       "      <td>0.9804</td>\n",
       "      <td>0.9739</td>\n",
       "      <td>0.98082</td>\n",
       "      <td>0.003745</td>\n",
       "      <td>182</td>\n",
       "    </tr>\n",
       "  </tbody>\n",
       "</table>\n",
       "<p>5 rows × 22 columns</p>\n",
       "</div>"
      ],
      "text/plain": [
       "   mean_fit_time  std_fit_time  mean_score_time  std_score_time  \\\n",
       "0       0.770576      0.009892         0.008866        0.001741   \n",
       "1       1.110764      0.018235         0.008755        0.001736   \n",
       "2       1.731496      0.037565         0.012847        0.001743   \n",
       "3       2.106929      0.034568         0.013668        0.002333   \n",
       "4       0.679191      0.019961         0.006776        0.001107   \n",
       "\n",
       "  param_max_depth param_min_samples_leaf param_min_samples_split  \\\n",
       "0               8                      4                       5   \n",
       "1               8                      4                       5   \n",
       "2               8                      4                       5   \n",
       "3               8                      4                       5   \n",
       "4               8                      4                       8   \n",
       "\n",
       "  param_n_estimators                                             params  \\\n",
       "0                  3  {'max_depth': 8, 'min_samples_leaf': 4, 'min_s...   \n",
       "1                  5  {'max_depth': 8, 'min_samples_leaf': 4, 'min_s...   \n",
       "2                  8  {'max_depth': 8, 'min_samples_leaf': 4, 'min_s...   \n",
       "3                 10  {'max_depth': 8, 'min_samples_leaf': 4, 'min_s...   \n",
       "4                  3  {'max_depth': 8, 'min_samples_leaf': 4, 'min_s...   \n",
       "\n",
       "   split0_test_score  ...  split3_test_score  split4_test_score  \\\n",
       "0             0.9891  ...             0.9839             0.9819   \n",
       "1             0.9870  ...             0.9800             0.9810   \n",
       "2             0.9823  ...             0.9788             0.9881   \n",
       "3             0.9859  ...             0.9843             0.9863   \n",
       "4             0.9808  ...             0.9860             0.9800   \n",
       "\n",
       "   split5_test_score  split6_test_score  split7_test_score  split8_test_score  \\\n",
       "0             0.9887             0.9883             0.9824             0.9699   \n",
       "1             0.9868             0.9829             0.9835             0.9806   \n",
       "2             0.9908             0.9818             0.9797             0.9852   \n",
       "3             0.9821             0.9849             0.9801             0.9856   \n",
       "4             0.9821             0.9747             0.9821             0.9804   \n",
       "\n",
       "   split9_test_score  mean_test_score  std_test_score  rank_test_score  \n",
       "0             0.9771          0.98175        0.005985              177  \n",
       "1             0.9775          0.98241        0.003454              170  \n",
       "2             0.9794          0.98339        0.003831              160  \n",
       "3             0.9828          0.98416        0.002273              150  \n",
       "4             0.9739          0.98082        0.003745              182  \n",
       "\n",
       "[5 rows x 22 columns]"
      ]
     },
     "execution_count": 42,
     "metadata": {},
     "output_type": "execute_result"
    }
   ],
   "source": [
    "cv_results = pd.DataFrame(gridcv.cv_results_)\n",
    "cv_results.head()"
   ]
  },
  {
   "cell_type": "code",
   "execution_count": 43,
   "id": "47872fdc",
   "metadata": {},
   "outputs": [
    {
     "data": {
      "text/plain": [
       "<seaborn.axisgrid.PairGrid at 0x1b991695c70>"
      ]
     },
     "execution_count": 43,
     "metadata": {},
     "output_type": "execute_result"
    },
    {
     "data": {
      "image/png": "[encoded data removed]",
      "text/plain": [
       "<Figure size 864x360 with 4 Axes>"
      ]
     },
     "metadata": {
      "needs_background": "light"
     },
     "output_type": "display_data"
    }
   ],
   "source": [
    "params = ['param_max_depth', 'param_min_samples_leaf', 'param_min_samples_split',\n",
    "       'param_n_estimators']\n",
    "\n",
    "g = sns.PairGrid(data=cv_results, x_vars=params,y_vars='mean_test_score',height=5, aspect=.6)\n",
    "g.map(sns.lineplot)"
   ]
  },
  {
   "cell_type": "markdown",
   "id": "7ddbaa06",
   "metadata": {},
   "source": [
    "## Fitting a Final Model Using the Best Parameters"
   ]
  },
  {
   "cell_type": "code",
   "execution_count": 44,
   "id": "bbcafd63",
   "metadata": {},
   "outputs": [
    {
     "name": "stdout",
     "output_type": "stream",
     "text": [
      "Best Estimator: RandomForestClassifier(max_depth=11, min_samples_leaf=9, min_samples_split=5,\n",
      "                       n_estimators=10)\n",
      "\n",
      "Best Parameters: {'max_depth': 11, 'min_samples_leaf': 9, 'min_samples_split': 5, 'n_estimators': 10}\n",
      "\n",
      "Best Score: 0.9984299999999999\n"
     ]
    }
   ],
   "source": [
    "print(f'Best Estimator: {gridcv.best_estimator_}\\n')\n",
    "print(f'Best Parameters: {gridcv.best_params_}\\n')\n",
    "print(f'Best Score: {gridcv.best_score_}')"
   ]
  },
  {
   "cell_type": "code",
   "execution_count": 45,
   "id": "9bc9ed25",
   "metadata": {},
   "outputs": [],
   "source": [
    "randforest = RandomForestClassifier(n_estimators=10,\n",
    "                                    max_depth=11,\n",
    "                                    min_samples_split=5,\n",
    "                                    min_samples_leaf=6,\n",
    "                                    random_state=42)"
   ]
  },
  {
   "cell_type": "code",
   "execution_count": 46,
   "id": "916829d1",
   "metadata": {
    "scrolled": true
   },
   "outputs": [
    {
     "data": {
      "text/plain": [
       "RandomForestClassifier(max_depth=11, min_samples_leaf=6, min_samples_split=5,\n",
       "                       n_estimators=10, random_state=42)"
      ]
     },
     "execution_count": 46,
     "metadata": {},
     "output_type": "execute_result"
    }
   ],
   "source": [
    "randforest.fit(X_train,y_train)"
   ]
  },
  {
   "cell_type": "code",
   "execution_count": 47,
   "id": "6c437315",
   "metadata": {},
   "outputs": [],
   "source": [
    "X_test = val.drop(\"Class\", axis=1)\n",
    "y_test = val[\"Class\"]"
   ]
  },
  {
   "cell_type": "code",
   "execution_count": 48,
   "id": "758f7c6c",
   "metadata": {},
   "outputs": [
    {
     "name": "stderr",
     "output_type": "stream",
     "text": [
      "C:\\Users\\ajgal\\anaconda3\\lib\\site-packages\\yellowbrick\\classifier\\base.py:232: YellowbrickWarning: could not determine class_counts_ from previously fitted classifier\n",
      "  warnings.warn(\n"
     ]
    },
    {
     "data": {
      "image/png": "[encoded data removed]",
      "text/plain": [
       "<Figure size 576x396 with 1 Axes>"
      ]
     },
     "metadata": {},
     "output_type": "display_data"
    },
    {
     "data": {
      "text/plain": [
       "<AxesSubplot:title={'center':'RandomForestClassifier Confusion Matrix'}, xlabel='Predicted Class', ylabel='True Class'>"
      ]
     },
     "execution_count": 48,
     "metadata": {},
     "output_type": "execute_result"
    }
   ],
   "source": [
    "from yellowbrick.classifier import ConfusionMatrix\n",
    "classes = ['Valid', 'Fraud']\n",
    "label_encoder ={0:'Valid',1:'Fraud'}\n",
    "cm = ConfusionMatrix(randforest, classes=classes, label_encoder=label_encoder)\n",
    "cm.score(X_test,y_test)\n",
    "cm.show()"
   ]
  },
  {
   "cell_type": "code",
   "execution_count": 49,
   "id": "dbc3f2d7",
   "metadata": {},
   "outputs": [
    {
     "name": "stdout",
     "output_type": "stream",
     "text": [
      "              precision    recall  f1-score   support\n",
      "\n",
      "       Valid       1.00      1.00      1.00     56864\n",
      "       Fraud       0.66      0.84      0.74        98\n",
      "\n",
      "    accuracy                           1.00     56962\n",
      "   macro avg       0.83      0.92      0.87     56962\n",
      "weighted avg       1.00      1.00      1.00     56962\n",
      "\n"
     ]
    }
   ],
   "source": [
    "from sklearn.metrics import classification_report\n",
    "y_pred = randforest.predict(X_test)\n",
    "target_names = ['Valid', 'Fraud']\n",
    "print(classification_report(y_test,y_pred,target_names=target_names))"
   ]
  },
  {
   "cell_type": "markdown",
   "id": "26463874",
   "metadata": {},
   "source": [
    "# Analyzing the Results\n",
    "These results are encouraging in that most of the truly fraudulent cases were detected (82 of the total 98 cases of fraud within the validation set). We do have a number of false positives which ultimately leads to our 0.66 precision rating for fraud but what we really care about in this situation is the recall rate which sits at 0.84. **We would rather have a higher rate of false positives than false negatives when detecting fraud**. If there is a possibility of fraud it should be investigated. Our real focus first and foremost should be about improving how our model detects the 16 cases that it did not detect. If we were to imagine the recall rate as our overall grade for detection we might score a grade of \"B-\" (false positives still count as errors despite there relative importance to fraud detection."
   ]
  },
  {
   "cell_type": "markdown",
   "id": "bafcce55",
   "metadata": {},
   "source": [
    "# Next Steps"
   ]
  },
  {
   "cell_type": "markdown",
   "id": "c309876d",
   "metadata": {},
   "source": [
    "In this example we only used the RandomForest algorithm. Realistically, we would want to run several types of classification models and pit them against one another to determine which algorithm to move forward with. However, supposing we found that the RandomForest algorithm performed best, we would need to take a deeper dive into the data behind the 16 misclassified false negatives as well as some of the data behind the 42 misclassified false positives to see if we could determine some potential cause of the misclassifications. It should also be noted that since the data is encrpyted via PCA we may be missing some intricacies in the data. On the other hand, we may also need to dive deeper into which features are truly important to classifying transaction as valid or fraud."
   ]
  },
  {
   "cell_type": "markdown",
   "id": "c31427fd",
   "metadata": {},
   "source": [
    "# Analyzing Feature Importance"
   ]
  },
  {
   "cell_type": "code",
   "execution_count": 50,
   "id": "30308240",
   "metadata": {},
   "outputs": [],
   "source": [
    "feat_import = gridcv.best_estimator_.feature_importances_"
   ]
  },
  {
   "cell_type": "code",
   "execution_count": 51,
   "id": "d2e0bb2b",
   "metadata": {},
   "outputs": [],
   "source": [
    "fi_dict = dict(feature=col_names, importance=feat_import)"
   ]
  },
  {
   "cell_type": "code",
   "execution_count": 52,
   "id": "761591a9",
   "metadata": {},
   "outputs": [],
   "source": [
    "df_importance = pd.DataFrame(fi_dict)\n",
    "df_importance = df_importance.sort_values(by='importance', ascending=False).reset_index(drop=True)"
   ]
  },
  {
   "cell_type": "code",
   "execution_count": 53,
   "id": "ecf9118b",
   "metadata": {},
   "outputs": [
    {
     "data": {
      "text/html": [
       "<div>\n",
       "<style scoped>\n",
       "    .dataframe tbody tr th:only-of-type {\n",
       "        vertical-align: middle;\n",
       "    }\n",
       "\n",
       "    .dataframe tbody tr th {\n",
       "        vertical-align: top;\n",
       "    }\n",
       "\n",
       "    .dataframe thead th {\n",
       "        text-align: right;\n",
       "    }\n",
       "</style>\n",
       "<table border=\"1\" class=\"dataframe\">\n",
       "  <thead>\n",
       "    <tr style=\"text-align: right;\">\n",
       "      <th></th>\n",
       "      <th>feature</th>\n",
       "      <th>importance</th>\n",
       "    </tr>\n",
       "  </thead>\n",
       "  <tbody>\n",
       "    <tr>\n",
       "      <th>0</th>\n",
       "      <td>V14</td>\n",
       "      <td>0.325249</td>\n",
       "    </tr>\n",
       "    <tr>\n",
       "      <th>1</th>\n",
       "      <td>V11</td>\n",
       "      <td>0.144958</td>\n",
       "    </tr>\n",
       "    <tr>\n",
       "      <th>2</th>\n",
       "      <td>V12</td>\n",
       "      <td>0.098727</td>\n",
       "    </tr>\n",
       "    <tr>\n",
       "      <th>3</th>\n",
       "      <td>V3</td>\n",
       "      <td>0.071820</td>\n",
       "    </tr>\n",
       "    <tr>\n",
       "      <th>4</th>\n",
       "      <td>V4</td>\n",
       "      <td>0.054437</td>\n",
       "    </tr>\n",
       "    <tr>\n",
       "      <th>5</th>\n",
       "      <td>V10</td>\n",
       "      <td>0.050028</td>\n",
       "    </tr>\n",
       "    <tr>\n",
       "      <th>6</th>\n",
       "      <td>V2</td>\n",
       "      <td>0.048929</td>\n",
       "    </tr>\n",
       "    <tr>\n",
       "      <th>7</th>\n",
       "      <td>V18</td>\n",
       "      <td>0.035683</td>\n",
       "    </tr>\n",
       "    <tr>\n",
       "      <th>8</th>\n",
       "      <td>V17</td>\n",
       "      <td>0.025203</td>\n",
       "    </tr>\n",
       "    <tr>\n",
       "      <th>9</th>\n",
       "      <td>V19</td>\n",
       "      <td>0.017293</td>\n",
       "    </tr>\n",
       "    <tr>\n",
       "      <th>10</th>\n",
       "      <td>V8</td>\n",
       "      <td>0.013375</td>\n",
       "    </tr>\n",
       "    <tr>\n",
       "      <th>11</th>\n",
       "      <td>V5</td>\n",
       "      <td>0.010601</td>\n",
       "    </tr>\n",
       "    <tr>\n",
       "      <th>12</th>\n",
       "      <td>Amount</td>\n",
       "      <td>0.009454</td>\n",
       "    </tr>\n",
       "    <tr>\n",
       "      <th>13</th>\n",
       "      <td>V20</td>\n",
       "      <td>0.009433</td>\n",
       "    </tr>\n",
       "    <tr>\n",
       "      <th>14</th>\n",
       "      <td>V16</td>\n",
       "      <td>0.009110</td>\n",
       "    </tr>\n",
       "    <tr>\n",
       "      <th>15</th>\n",
       "      <td>V15</td>\n",
       "      <td>0.009018</td>\n",
       "    </tr>\n",
       "    <tr>\n",
       "      <th>16</th>\n",
       "      <td>V21</td>\n",
       "      <td>0.007624</td>\n",
       "    </tr>\n",
       "    <tr>\n",
       "      <th>17</th>\n",
       "      <td>V26</td>\n",
       "      <td>0.006599</td>\n",
       "    </tr>\n",
       "    <tr>\n",
       "      <th>18</th>\n",
       "      <td>V13</td>\n",
       "      <td>0.006094</td>\n",
       "    </tr>\n",
       "    <tr>\n",
       "      <th>19</th>\n",
       "      <td>V22</td>\n",
       "      <td>0.005906</td>\n",
       "    </tr>\n",
       "    <tr>\n",
       "      <th>20</th>\n",
       "      <td>V7</td>\n",
       "      <td>0.005477</td>\n",
       "    </tr>\n",
       "    <tr>\n",
       "      <th>21</th>\n",
       "      <td>V9</td>\n",
       "      <td>0.005473</td>\n",
       "    </tr>\n",
       "    <tr>\n",
       "      <th>22</th>\n",
       "      <td>V1</td>\n",
       "      <td>0.005184</td>\n",
       "    </tr>\n",
       "    <tr>\n",
       "      <th>23</th>\n",
       "      <td>V6</td>\n",
       "      <td>0.004759</td>\n",
       "    </tr>\n",
       "    <tr>\n",
       "      <th>24</th>\n",
       "      <td>V24</td>\n",
       "      <td>0.004751</td>\n",
       "    </tr>\n",
       "    <tr>\n",
       "      <th>25</th>\n",
       "      <td>V27</td>\n",
       "      <td>0.004294</td>\n",
       "    </tr>\n",
       "    <tr>\n",
       "      <th>26</th>\n",
       "      <td>V23</td>\n",
       "      <td>0.004017</td>\n",
       "    </tr>\n",
       "    <tr>\n",
       "      <th>27</th>\n",
       "      <td>V28</td>\n",
       "      <td>0.003886</td>\n",
       "    </tr>\n",
       "    <tr>\n",
       "      <th>28</th>\n",
       "      <td>V25</td>\n",
       "      <td>0.002619</td>\n",
       "    </tr>\n",
       "  </tbody>\n",
       "</table>\n",
       "</div>"
      ],
      "text/plain": [
       "   feature  importance\n",
       "0      V14    0.325249\n",
       "1      V11    0.144958\n",
       "2      V12    0.098727\n",
       "3       V3    0.071820\n",
       "4       V4    0.054437\n",
       "5      V10    0.050028\n",
       "6       V2    0.048929\n",
       "7      V18    0.035683\n",
       "8      V17    0.025203\n",
       "9      V19    0.017293\n",
       "10      V8    0.013375\n",
       "11      V5    0.010601\n",
       "12  Amount    0.009454\n",
       "13     V20    0.009433\n",
       "14     V16    0.009110\n",
       "15     V15    0.009018\n",
       "16     V21    0.007624\n",
       "17     V26    0.006599\n",
       "18     V13    0.006094\n",
       "19     V22    0.005906\n",
       "20      V7    0.005477\n",
       "21      V9    0.005473\n",
       "22      V1    0.005184\n",
       "23      V6    0.004759\n",
       "24     V24    0.004751\n",
       "25     V27    0.004294\n",
       "26     V23    0.004017\n",
       "27     V28    0.003886\n",
       "28     V25    0.002619"
      ]
     },
     "execution_count": 53,
     "metadata": {},
     "output_type": "execute_result"
    }
   ],
   "source": [
    "df_importance"
   ]
  },
  {
   "cell_type": "code",
   "execution_count": 54,
   "id": "a13e5b32",
   "metadata": {},
   "outputs": [
    {
     "data": {
      "text/plain": [
       "<AxesSubplot:xlabel='importance', ylabel='feature'>"
      ]
     },
     "execution_count": 54,
     "metadata": {},
     "output_type": "execute_result"
    },
    {
     "data": {
      "image/png": "[encoded data removed]",
      "text/plain": [
       "<Figure size 720x720 with 1 Axes>"
      ]
     },
     "metadata": {},
     "output_type": "display_data"
    }
   ],
   "source": [
    "plt.figure(figsize=(10,10))\n",
    "sns.barplot(x=\"importance\", y=\"feature\", data=df_importance)"
   ]
  },
  {
   "cell_type": "markdown",
   "id": "b86afb55",
   "metadata": {},
   "source": [
    "# Investigating Misclassifications"
   ]
  },
  {
   "cell_type": "code",
   "execution_count": 55,
   "id": "0bf14d3d",
   "metadata": {},
   "outputs": [
    {
     "data": {
      "text/plain": [
       "array([1, 0, 0, ..., 0, 0, 0], dtype=int64)"
      ]
     },
     "execution_count": 55,
     "metadata": {},
     "output_type": "execute_result"
    }
   ],
   "source": [
    "y_pred"
   ]
  },
  {
   "cell_type": "code",
   "execution_count": 56,
   "id": "7d205d6d",
   "metadata": {},
   "outputs": [
    {
     "data": {
      "text/plain": [
       "43428     1\n",
       "49906     0\n",
       "29474     0\n",
       "276481    0\n",
       "278846    0\n",
       "         ..\n",
       "75723     0\n",
       "252263    0\n",
       "221246    0\n",
       "81910     0\n",
       "59490     0\n",
       "Name: Class, Length: 56962, dtype: int64"
      ]
     },
     "execution_count": 56,
     "metadata": {},
     "output_type": "execute_result"
    }
   ],
   "source": [
    "y_test"
   ]
  },
  {
   "cell_type": "code",
   "execution_count": 57,
   "id": "8bb1feae",
   "metadata": {},
   "outputs": [
    {
     "data": {
      "text/html": [
       "<div>\n",
       "<style scoped>\n",
       "    .dataframe tbody tr th:only-of-type {\n",
       "        vertical-align: middle;\n",
       "    }\n",
       "\n",
       "    .dataframe tbody tr th {\n",
       "        vertical-align: top;\n",
       "    }\n",
       "\n",
       "    .dataframe thead th {\n",
       "        text-align: right;\n",
       "    }\n",
       "</style>\n",
       "<table border=\"1\" class=\"dataframe\">\n",
       "  <thead>\n",
       "    <tr style=\"text-align: right;\">\n",
       "      <th></th>\n",
       "      <th>pred</th>\n",
       "    </tr>\n",
       "  </thead>\n",
       "  <tbody>\n",
       "    <tr>\n",
       "      <th>0</th>\n",
       "      <td>1</td>\n",
       "    </tr>\n",
       "    <tr>\n",
       "      <th>1</th>\n",
       "      <td>0</td>\n",
       "    </tr>\n",
       "    <tr>\n",
       "      <th>2</th>\n",
       "      <td>0</td>\n",
       "    </tr>\n",
       "    <tr>\n",
       "      <th>3</th>\n",
       "      <td>0</td>\n",
       "    </tr>\n",
       "    <tr>\n",
       "      <th>4</th>\n",
       "      <td>0</td>\n",
       "    </tr>\n",
       "  </tbody>\n",
       "</table>\n",
       "</div>"
      ],
      "text/plain": [
       "   pred\n",
       "0     1\n",
       "1     0\n",
       "2     0\n",
       "3     0\n",
       "4     0"
      ]
     },
     "execution_count": 57,
     "metadata": {},
     "output_type": "execute_result"
    }
   ],
   "source": [
    "df_pred = pd.DataFrame(y_pred, columns=[\"pred\"])\n",
    "df_pred.head()"
   ]
  },
  {
   "cell_type": "code",
   "execution_count": 58,
   "id": "e9008bad",
   "metadata": {},
   "outputs": [],
   "source": [
    "df_combined = pd.concat([y_test,df_pred], axis=1, join='inner')\n",
    "df_misclass = df_combined[df_combined[\"Class\"] != df_combined[\"pred\"]].sort_values(by='pred', ascending=False)"
   ]
  },
  {
   "cell_type": "code",
   "execution_count": 59,
   "id": "80f12c6d",
   "metadata": {},
   "outputs": [
    {
     "data": {
      "text/html": [
       "<div>\n",
       "<style scoped>\n",
       "    .dataframe tbody tr th:only-of-type {\n",
       "        vertical-align: middle;\n",
       "    }\n",
       "\n",
       "    .dataframe tbody tr th {\n",
       "        vertical-align: top;\n",
       "    }\n",
       "\n",
       "    .dataframe thead th {\n",
       "        text-align: right;\n",
       "    }\n",
       "</style>\n",
       "<table border=\"1\" class=\"dataframe\">\n",
       "  <thead>\n",
       "    <tr style=\"text-align: right;\">\n",
       "      <th></th>\n",
       "      <th>Class</th>\n",
       "      <th>pred</th>\n",
       "    </tr>\n",
       "  </thead>\n",
       "  <tbody>\n",
       "    <tr>\n",
       "      <th>43900</th>\n",
       "      <td>0</td>\n",
       "      <td>1</td>\n",
       "    </tr>\n",
       "    <tr>\n",
       "      <th>50155</th>\n",
       "      <td>0</td>\n",
       "      <td>1</td>\n",
       "    </tr>\n",
       "    <tr>\n",
       "      <th>39995</th>\n",
       "      <td>0</td>\n",
       "      <td>1</td>\n",
       "    </tr>\n",
       "    <tr>\n",
       "      <th>8090</th>\n",
       "      <td>0</td>\n",
       "      <td>1</td>\n",
       "    </tr>\n",
       "    <tr>\n",
       "      <th>32949</th>\n",
       "      <td>0</td>\n",
       "      <td>1</td>\n",
       "    </tr>\n",
       "  </tbody>\n",
       "</table>\n",
       "</div>"
      ],
      "text/plain": [
       "       Class  pred\n",
       "43900      0     1\n",
       "50155      0     1\n",
       "39995      0     1\n",
       "8090       0     1\n",
       "32949      0     1"
      ]
     },
     "execution_count": 59,
     "metadata": {},
     "output_type": "execute_result"
    }
   ],
   "source": [
    "df_misclass[df_misclass[\"pred\"]==1].head(5)"
   ]
  },
  {
   "cell_type": "code",
   "execution_count": 60,
   "id": "943649f0",
   "metadata": {},
   "outputs": [
    {
     "name": "stdout",
     "output_type": "stream",
     "text": [
      "[0, 6054, 6882, 6903, 8090, 8615, 9163, 9252, 11066, 11245, 11710, 11880, 12070, 15225, 15781, 15810, 16592, 16780, 17407, 19442, 19821, 20198, 20617, 21237, 21699, 22163, 28765, 28857, 31337, 32009, 32102, 32949, 36216, 36674, 37190, 37841, 39183, 39297, 39995, 40215, 41569, 42007, 42635, 42784, 43061, 43428, 43900, 44042, 44091, 44270, 45276, 50155, 53465, 55409, 55459]\n"
     ]
    }
   ],
   "source": [
    "misclassified_index = sorted(list(df_misclass.index))\n",
    "print(misclassified_index)"
   ]
  },
  {
   "cell_type": "code",
   "execution_count": 61,
   "id": "7b20d421",
   "metadata": {},
   "outputs": [],
   "source": [
    "misclassified_valid = sorted(list(df_misclass[df_misclass[\"Class\"]==0].index))\n",
    "misclassified_fraud = sorted(list(df_misclass[df_misclass[\"Class\"]==1].index))"
   ]
  },
  {
   "cell_type": "markdown",
   "id": "8995f0fc",
   "metadata": {},
   "source": [
    "### Note:\n",
    "* Correct Classifications notated in BLUE\n",
    "* Misclassified Valid Points (False Positive) notated in GREEN\n",
    "* Misclassified Fraud Points (False Negative) notated in RED"
   ]
  },
  {
   "cell_type": "code",
   "execution_count": 62,
   "id": "fab5e7bf",
   "metadata": {},
   "outputs": [
    {
     "data": {
      "text/plain": [
       "<matplotlib.collections.PathCollection at 0x1b99803dd90>"
      ]
     },
     "execution_count": 62,
     "metadata": {},
     "output_type": "execute_result"
    },
    {
     "data": {
      "image/png": "[encoded data removed]",
      "text/plain": [
       "<Figure size 576x396 with 1 Axes>"
      ]
     },
     "metadata": {},
     "output_type": "display_data"
    }
   ],
   "source": [
    "#V12 vs. V14\n",
    "plt.scatter(X_test['V12'], X_test['V14']) #correctly identified blue points\n",
    "plt.scatter(X_test['V12'].filter(items= misclassified_valid, axis=0),\n",
    "             X_test['V14'].filter(items= misclassified_valid, axis=0), color='green') #misclassified true valid green points\n",
    "plt.scatter(X_test['V12'].filter(items= misclassified_fraud, axis=0),\n",
    "             X_test['V14'].filter(items= misclassified_fraud, axis=0), color='red') #misclassified true fraud red points"
   ]
  },
  {
   "cell_type": "code",
   "execution_count": 63,
   "id": "b068517e",
   "metadata": {},
   "outputs": [
    {
     "data": {
      "text/plain": [
       "<matplotlib.collections.PathCollection at 0x1b9a43b21f0>"
      ]
     },
     "execution_count": 63,
     "metadata": {},
     "output_type": "execute_result"
    },
    {
     "data": {
      "image/png": "[encoded data removed]",
      "text/plain": [
       "<Figure size 576x396 with 1 Axes>"
      ]
     },
     "metadata": {},
     "output_type": "display_data"
    }
   ],
   "source": [
    "#V2 vs. V7\n",
    "plt.scatter(X_test['V2'], X_test['V7']) #correctly identified blue points\n",
    "plt.scatter(X_test['V2'].filter(items= misclassified_valid, axis=0),\n",
    "             X_test['V7'].filter(items= misclassified_valid, axis=0), color='green') #misclassified true valid green points\n",
    "plt.scatter(X_test['V2'].filter(items= misclassified_fraud, axis=0),\n",
    "             X_test['V7'].filter(items= misclassified_fraud, axis=0), color='red') #misclassified true fraud red points"
   ]
  },
  {
   "cell_type": "code",
   "execution_count": 64,
   "id": "96c096f7",
   "metadata": {},
   "outputs": [
    {
     "data": {
      "text/plain": [
       "<matplotlib.collections.PathCollection at 0x1b9a43f9fd0>"
      ]
     },
     "execution_count": 64,
     "metadata": {},
     "output_type": "execute_result"
    },
    {
     "data": {
      "image/png": "[encoded data removed]",
      "text/plain": [
       "<Figure size 576x396 with 1 Axes>"
      ]
     },
     "metadata": {},
     "output_type": "display_data"
    }
   ],
   "source": [
    "#V4 vs. V10\n",
    "plt.scatter(X_test['V4'], X_test['V10']) #correctly identified blue points\n",
    "plt.scatter(X_test['V4'].filter(items= misclassified_valid, axis=0),\n",
    "             X_test['V10'].filter(items= misclassified_valid, axis=0), color='green') #misclassified true valid green points\n",
    "plt.scatter(X_test['V4'].filter(items= misclassified_fraud, axis=0),\n",
    "             X_test['V10'].filter(items= misclassified_fraud, axis=0), color='red') #misclassified true fraud red points"
   ]
  },
  {
   "cell_type": "markdown",
   "id": "992fd134",
   "metadata": {},
   "source": [
    "# New Insights"
   ]
  },
  {
   "cell_type": "markdown",
   "id": "bd145e66",
   "metadata": {},
   "source": [
    "From some of the visualizations of the misclassifications from a few of the features we can see that the false positives seem to be clustered near the majority of the true valid transactions. The misclassied fraudulent cases (our false negatives) seem to be a mix of the some points closer to the majority of points and many times closer to the points further away from the main clusters.\n",
    "\n",
    "We will attempt to run the algorithm one final time with fewer features to see if focusing on the features with the greatest importances will allow the algorithm to make better decisions."
   ]
  },
  {
   "cell_type": "code",
   "execution_count": 65,
   "id": "1cf65a51",
   "metadata": {},
   "outputs": [],
   "source": [
    "bottom_feats = list(df_importance[10:][\"feature\"].values)"
   ]
  },
  {
   "cell_type": "code",
   "execution_count": 66,
   "id": "10eef7d2",
   "metadata": {},
   "outputs": [],
   "source": [
    "X_train_mod = X_train.drop(bottom_feats, axis=1)\n",
    "X_test_mod = X_test.drop(bottom_feats, axis=1)"
   ]
  },
  {
   "cell_type": "code",
   "execution_count": 67,
   "id": "8ecd02b0",
   "metadata": {},
   "outputs": [],
   "source": [
    "randforest2 = RandomForestClassifier(n_estimators=10,\n",
    "                                    max_depth=11,\n",
    "                                    min_samples_split=5,\n",
    "                                    min_samples_leaf=6,\n",
    "                                    random_state=42)"
   ]
  },
  {
   "cell_type": "code",
   "execution_count": 68,
   "id": "f07aed83",
   "metadata": {
    "scrolled": true
   },
   "outputs": [
    {
     "data": {
      "text/plain": [
       "RandomForestClassifier(max_depth=11, min_samples_leaf=6, min_samples_split=5,\n",
       "                       n_estimators=10, random_state=42)"
      ]
     },
     "execution_count": 68,
     "metadata": {},
     "output_type": "execute_result"
    }
   ],
   "source": [
    "randforest2.fit(X_train_mod,y_train)"
   ]
  },
  {
   "cell_type": "code",
   "execution_count": 69,
   "id": "cc53ef97",
   "metadata": {},
   "outputs": [
    {
     "name": "stderr",
     "output_type": "stream",
     "text": [
      "C:\\Users\\ajgal\\anaconda3\\lib\\site-packages\\yellowbrick\\classifier\\base.py:232: YellowbrickWarning: could not determine class_counts_ from previously fitted classifier\n",
      "  warnings.warn(\n"
     ]
    },
    {
     "data": {
      "image/png": "[encoded data removed]",
      "text/plain": [
       "<Figure size 576x396 with 1 Axes>"
      ]
     },
     "metadata": {},
     "output_type": "display_data"
    },
    {
     "data": {
      "text/plain": [
       "<AxesSubplot:title={'center':'RandomForestClassifier Confusion Matrix'}, xlabel='Predicted Class', ylabel='True Class'>"
      ]
     },
     "execution_count": 69,
     "metadata": {},
     "output_type": "execute_result"
    }
   ],
   "source": [
    "from yellowbrick.classifier import ConfusionMatrix\n",
    "classes = ['Valid', 'Fraud']\n",
    "label_encoder ={0:'Valid',1:'Fraud'}\n",
    "cm = ConfusionMatrix(randforest2, classes=classes, label_encoder=label_encoder)\n",
    "cm.score(X_test_mod,y_test)\n",
    "cm.show()"
   ]
  },
  {
   "cell_type": "code",
   "execution_count": 70,
   "id": "35b5ed72",
   "metadata": {},
   "outputs": [
    {
     "name": "stdout",
     "output_type": "stream",
     "text": [
      "              precision    recall  f1-score   support\n",
      "\n",
      "       Valid       1.00      1.00      1.00     56864\n",
      "       Fraud       0.60      0.86      0.70        98\n",
      "\n",
      "    accuracy                           1.00     56962\n",
      "   macro avg       0.80      0.93      0.85     56962\n",
      "weighted avg       1.00      1.00      1.00     56962\n",
      "\n"
     ]
    }
   ],
   "source": [
    "from sklearn.metrics import classification_report\n",
    "y_pred = randforest2.predict(X_test_mod)\n",
    "target_names = ['Valid', 'Fraud']\n",
    "print(classification_report(y_test,y_pred,target_names=target_names))"
   ]
  },
  {
   "cell_type": "markdown",
   "id": "125c2cff",
   "metadata": {},
   "source": [
    "# Conclusion"
   ]
  },
  {
   "cell_type": "markdown",
   "id": "da52118b",
   "metadata": {},
   "source": [
    "We can see that removing all but the top 10 features has seen an improvement to our recall but at the cost of our precision. We have identified 3 additional cases of fraud while misclassifying an additional 25 cases as fraud that were actually valid transactions. Considering the number of transactions that took place at 56797 we should consider whether or not a misclassification rate of approximately 0.001% (result from 67 divided by 56797) for false positives is acceptable for the company. There is a cost to any and all misclassifications and we would need to consult with others to determine what the best strategy ultimately is. "
   ]
  }
 ],
 "metadata": {
  "kernelspec": {
   "display_name": "Python 3",
   "language": "python",
   "name": "python3"
  },
  "language_info": {
   "codemirror_mode": {
    "name": "ipython",
    "version": 3
   },
   "file_extension": ".py",
   "mimetype": "text/x-python",
   "name": "python",
   "nbconvert_exporter": "python",
   "pygments_lexer": "ipython3",
   "version": "3.8.5"
  }
 },
 "nbformat": 4,
 "nbformat_minor": 5
}
