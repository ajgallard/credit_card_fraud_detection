{
 "cells": [
  {
   "attachments": {},
   "cell_type": "markdown",
   "id": "db86ed7c",
   "metadata": {},
   "source": [
    "# Fraud Detection with Random Forest\n",
    "Most transactions that a credit card company will process are valid transactions. However, a select few of these transactions are actually fradulent and need to be identified as accurately as possible to ensure that customers have there identity secure. The imbalance between valid and fraud transactions requires some extra preprocessing along with the appropriate model to properly make a model. Assuming we have a labeled data set we can apply an ensemble method such as Random Forest to help us identify fraudulent transactions based the provided features"
   ]
  },
  {
   "cell_type": "code",
   "execution_count": 1,
   "id": "f4cb8f2c",
   "metadata": {},
   "outputs": [],
   "source": [
    "import sys\n",
    "import numpy as np\n",
    "import pandas as pd\n",
    "import matplotlib\n",
    "import seaborn as sns\n",
    "import sklearn"
   ]
  },
  {
   "cell_type": "code",
   "execution_count": 2,
   "id": "3c3315d2",
   "metadata": {},
   "outputs": [
    {
     "name": "stdout",
     "output_type": "stream",
     "text": [
      "Python: 3.8.5 (default, Sep  3 2020, 21:29:08) [MSC v.1916 64 bit (AMD64)]\n",
      "Numpy: <module 'numpy.version' from 'C:\\\\Users\\\\ajgal\\\\AppData\\\\Roaming\\\\Python\\\\Python38\\\\site-packages\\\\numpy\\\\version.py'>\n",
      "Pandas: 1.2.4\n",
      "Matplotlib: 3.3.4\n",
      "Seaborn: 0.11.1\n",
      "Sklearn: 0.24.2\n"
     ]
    }
   ],
   "source": [
    "print(f'Python: {sys.version}')\n",
    "print(f'Numpy: {np.version}')\n",
    "print(f'Pandas: {pd.__version__}')\n",
    "print(f'Matplotlib: {matplotlib.__version__}')\n",
    "print(f'Seaborn: {sns.__version__}')\n",
    "print(f'Sklearn: {sklearn.__version__}')"
   ]
  },
  {
   "cell_type": "code",
   "execution_count": 3,
   "id": "90d03046",
   "metadata": {},
   "outputs": [],
   "source": [
    "import matplotlib.pyplot as plt\n",
    "%matplotlib inline"
   ]
  },
  {
   "cell_type": "markdown",
   "id": "613fd681",
   "metadata": {},
   "source": [
    "# Credit Card dataset\n",
    "The following dataset has been dimensionally reduced using PCA to protect the confidentiality of the data as these values are from real-world data."
   ]
  },
  {
   "cell_type": "code",
   "execution_count": 4,
   "id": "b69fd620",
   "metadata": {},
   "outputs": [],
   "source": [
    "data = pd.read_csv('data/creditcard.csv')"
   ]
  },
  {
   "cell_type": "code",
   "execution_count": 5,
   "id": "d0f1d442",
   "metadata": {},
   "outputs": [
    {
     "data": {
      "text/html": [
       "<div>\n",
       "<style scoped>\n",
       "    .dataframe tbody tr th:only-of-type {\n",
       "        vertical-align: middle;\n",
       "    }\n",
       "\n",
       "    .dataframe tbody tr th {\n",
       "        vertical-align: top;\n",
       "    }\n",
       "\n",
       "    .dataframe thead th {\n",
       "        text-align: right;\n",
       "    }\n",
       "</style>\n",
       "<table border=\"1\" class=\"dataframe\">\n",
       "  <thead>\n",
       "    <tr style=\"text-align: right;\">\n",
       "      <th></th>\n",
       "      <th>Time</th>\n",
       "      <th>V1</th>\n",
       "      <th>V2</th>\n",
       "      <th>V3</th>\n",
       "      <th>V4</th>\n",
       "      <th>V5</th>\n",
       "      <th>V6</th>\n",
       "      <th>V7</th>\n",
       "      <th>V8</th>\n",
       "      <th>V9</th>\n",
       "      <th>...</th>\n",
       "      <th>V21</th>\n",
       "      <th>V22</th>\n",
       "      <th>V23</th>\n",
       "      <th>V24</th>\n",
       "      <th>V25</th>\n",
       "      <th>V26</th>\n",
       "      <th>V27</th>\n",
       "      <th>V28</th>\n",
       "      <th>Amount</th>\n",
       "      <th>Class</th>\n",
       "    </tr>\n",
       "  </thead>\n",
       "  <tbody>\n",
       "    <tr>\n",
       "      <th>0</th>\n",
       "      <td>0.0</td>\n",
       "      <td>-1.359807</td>\n",
       "      <td>-0.072781</td>\n",
       "      <td>2.536347</td>\n",
       "      <td>1.378155</td>\n",
       "      <td>-0.338321</td>\n",
       "      <td>0.462388</td>\n",
       "      <td>0.239599</td>\n",
       "      <td>0.098698</td>\n",
       "      <td>0.363787</td>\n",
       "      <td>...</td>\n",
       "      <td>-0.018307</td>\n",
       "      <td>0.277838</td>\n",
       "      <td>-0.110474</td>\n",
       "      <td>0.066928</td>\n",
       "      <td>0.128539</td>\n",
       "      <td>-0.189115</td>\n",
       "      <td>0.133558</td>\n",
       "      <td>-0.021053</td>\n",
       "      <td>149.62</td>\n",
       "      <td>0</td>\n",
       "    </tr>\n",
       "    <tr>\n",
       "      <th>1</th>\n",
       "      <td>0.0</td>\n",
       "      <td>1.191857</td>\n",
       "      <td>0.266151</td>\n",
       "      <td>0.166480</td>\n",
       "      <td>0.448154</td>\n",
       "      <td>0.060018</td>\n",
       "      <td>-0.082361</td>\n",
       "      <td>-0.078803</td>\n",
       "      <td>0.085102</td>\n",
       "      <td>-0.255425</td>\n",
       "      <td>...</td>\n",
       "      <td>-0.225775</td>\n",
       "      <td>-0.638672</td>\n",
       "      <td>0.101288</td>\n",
       "      <td>-0.339846</td>\n",
       "      <td>0.167170</td>\n",
       "      <td>0.125895</td>\n",
       "      <td>-0.008983</td>\n",
       "      <td>0.014724</td>\n",
       "      <td>2.69</td>\n",
       "      <td>0</td>\n",
       "    </tr>\n",
       "    <tr>\n",
       "      <th>2</th>\n",
       "      <td>1.0</td>\n",
       "      <td>-1.358354</td>\n",
       "      <td>-1.340163</td>\n",
       "      <td>1.773209</td>\n",
       "      <td>0.379780</td>\n",
       "      <td>-0.503198</td>\n",
       "      <td>1.800499</td>\n",
       "      <td>0.791461</td>\n",
       "      <td>0.247676</td>\n",
       "      <td>-1.514654</td>\n",
       "      <td>...</td>\n",
       "      <td>0.247998</td>\n",
       "      <td>0.771679</td>\n",
       "      <td>0.909412</td>\n",
       "      <td>-0.689281</td>\n",
       "      <td>-0.327642</td>\n",
       "      <td>-0.139097</td>\n",
       "      <td>-0.055353</td>\n",
       "      <td>-0.059752</td>\n",
       "      <td>378.66</td>\n",
       "      <td>0</td>\n",
       "    </tr>\n",
       "    <tr>\n",
       "      <th>3</th>\n",
       "      <td>1.0</td>\n",
       "      <td>-0.966272</td>\n",
       "      <td>-0.185226</td>\n",
       "      <td>1.792993</td>\n",
       "      <td>-0.863291</td>\n",
       "      <td>-0.010309</td>\n",
       "      <td>1.247203</td>\n",
       "      <td>0.237609</td>\n",
       "      <td>0.377436</td>\n",
       "      <td>-1.387024</td>\n",
       "      <td>...</td>\n",
       "      <td>-0.108300</td>\n",
       "      <td>0.005274</td>\n",
       "      <td>-0.190321</td>\n",
       "      <td>-1.175575</td>\n",
       "      <td>0.647376</td>\n",
       "      <td>-0.221929</td>\n",
       "      <td>0.062723</td>\n",
       "      <td>0.061458</td>\n",
       "      <td>123.50</td>\n",
       "      <td>0</td>\n",
       "    </tr>\n",
       "    <tr>\n",
       "      <th>4</th>\n",
       "      <td>2.0</td>\n",
       "      <td>-1.158233</td>\n",
       "      <td>0.877737</td>\n",
       "      <td>1.548718</td>\n",
       "      <td>0.403034</td>\n",
       "      <td>-0.407193</td>\n",
       "      <td>0.095921</td>\n",
       "      <td>0.592941</td>\n",
       "      <td>-0.270533</td>\n",
       "      <td>0.817739</td>\n",
       "      <td>...</td>\n",
       "      <td>-0.009431</td>\n",
       "      <td>0.798278</td>\n",
       "      <td>-0.137458</td>\n",
       "      <td>0.141267</td>\n",
       "      <td>-0.206010</td>\n",
       "      <td>0.502292</td>\n",
       "      <td>0.219422</td>\n",
       "      <td>0.215153</td>\n",
       "      <td>69.99</td>\n",
       "      <td>0</td>\n",
       "    </tr>\n",
       "  </tbody>\n",
       "</table>\n",
       "<p>5 rows × 31 columns</p>\n",
       "</div>"
      ],
      "text/plain": [
       "   Time        V1        V2        V3        V4        V5        V6        V7  \\\n",
       "0   0.0 -1.359807 -0.072781  2.536347  1.378155 -0.338321  0.462388  0.239599   \n",
       "1   0.0  1.191857  0.266151  0.166480  0.448154  0.060018 -0.082361 -0.078803   \n",
       "2   1.0 -1.358354 -1.340163  1.773209  0.379780 -0.503198  1.800499  0.791461   \n",
       "3   1.0 -0.966272 -0.185226  1.792993 -0.863291 -0.010309  1.247203  0.237609   \n",
       "4   2.0 -1.158233  0.877737  1.548718  0.403034 -0.407193  0.095921  0.592941   \n",
       "\n",
       "         V8        V9  ...       V21       V22       V23       V24       V25  \\\n",
       "0  0.098698  0.363787  ... -0.018307  0.277838 -0.110474  0.066928  0.128539   \n",
       "1  0.085102 -0.255425  ... -0.225775 -0.638672  0.101288 -0.339846  0.167170   \n",
       "2  0.247676 -1.514654  ...  0.247998  0.771679  0.909412 -0.689281 -0.327642   \n",
       "3  0.377436 -1.387024  ... -0.108300  0.005274 -0.190321 -1.175575  0.647376   \n",
       "4 -0.270533  0.817739  ... -0.009431  0.798278 -0.137458  0.141267 -0.206010   \n",
       "\n",
       "        V26       V27       V28  Amount  Class  \n",
       "0 -0.189115  0.133558 -0.021053  149.62      0  \n",
       "1  0.125895 -0.008983  0.014724    2.69      0  \n",
       "2 -0.139097 -0.055353 -0.059752  378.66      0  \n",
       "3 -0.221929  0.062723  0.061458  123.50      0  \n",
       "4  0.502292  0.219422  0.215153   69.99      0  \n",
       "\n",
       "[5 rows x 31 columns]"
      ]
     },
     "execution_count": 5,
     "metadata": {},
     "output_type": "execute_result"
    }
   ],
   "source": [
    "data.head()"
   ]
  },
  {
   "cell_type": "markdown",
   "id": "b4e8f1eb",
   "metadata": {},
   "source": [
    "# Exploring the Data"
   ]
  },
  {
   "cell_type": "code",
   "execution_count": 6,
   "id": "49e98452",
   "metadata": {},
   "outputs": [
    {
     "data": {
      "text/plain": [
       "Index(['Time', 'V1', 'V2', 'V3', 'V4', 'V5', 'V6', 'V7', 'V8', 'V9', 'V10',\n",
       "       'V11', 'V12', 'V13', 'V14', 'V15', 'V16', 'V17', 'V18', 'V19', 'V20',\n",
       "       'V21', 'V22', 'V23', 'V24', 'V25', 'V26', 'V27', 'V28', 'Amount',\n",
       "       'Class'],\n",
       "      dtype='object')"
      ]
     },
     "execution_count": 6,
     "metadata": {},
     "output_type": "execute_result"
    }
   ],
   "source": [
    "data.columns"
   ]
  },
  {
   "cell_type": "code",
   "execution_count": 7,
   "id": "56d155ea",
   "metadata": {},
   "outputs": [
    {
     "data": {
      "text/plain": [
       "(284807, 31)"
      ]
     },
     "execution_count": 7,
     "metadata": {},
     "output_type": "execute_result"
    }
   ],
   "source": [
    "data.shape"
   ]
  },
  {
   "cell_type": "code",
   "execution_count": 8,
   "id": "cc3fae72",
   "metadata": {},
   "outputs": [
    {
     "data": {
      "text/plain": [
       "Time      172792.000000\n",
       "V1             2.454930\n",
       "V2            22.057729\n",
       "V3             9.382558\n",
       "V4            16.875344\n",
       "V5            34.801666\n",
       "V6            73.301626\n",
       "V7           120.589494\n",
       "V8            20.007208\n",
       "V9            15.594995\n",
       "V10           23.745136\n",
       "V11           12.018913\n",
       "V12            7.848392\n",
       "V13            7.126883\n",
       "V14           10.526766\n",
       "V15            8.877742\n",
       "V16           17.315112\n",
       "V17            9.253526\n",
       "V18            5.041069\n",
       "V19            5.591971\n",
       "V20           39.420904\n",
       "V21           27.202839\n",
       "V22           10.503090\n",
       "V23           22.528412\n",
       "V24            4.584549\n",
       "V25            7.519589\n",
       "V26            3.517346\n",
       "V27           31.612198\n",
       "V28           33.847808\n",
       "Amount     25691.160000\n",
       "Class          1.000000\n",
       "dtype: float64"
      ]
     },
     "execution_count": 8,
     "metadata": {},
     "output_type": "execute_result"
    }
   ],
   "source": [
    "#The data seems to require normalization prior to applying a model\n",
    "data.max()"
   ]
  },
  {
   "cell_type": "code",
   "execution_count": 9,
   "id": "5335dc68",
   "metadata": {},
   "outputs": [
    {
     "data": {
      "text/plain": [
       "Time        0.000000\n",
       "V1        -56.407510\n",
       "V2        -72.715728\n",
       "V3        -48.325589\n",
       "V4         -5.683171\n",
       "V5       -113.743307\n",
       "V6        -26.160506\n",
       "V7        -43.557242\n",
       "V8        -73.216718\n",
       "V9        -13.434066\n",
       "V10       -24.588262\n",
       "V11        -4.797473\n",
       "V12       -18.683715\n",
       "V13        -5.791881\n",
       "V14       -19.214325\n",
       "V15        -4.498945\n",
       "V16       -14.129855\n",
       "V17       -25.162799\n",
       "V18        -9.498746\n",
       "V19        -7.213527\n",
       "V20       -54.497720\n",
       "V21       -34.830382\n",
       "V22       -10.933144\n",
       "V23       -44.807735\n",
       "V24        -2.836627\n",
       "V25       -10.295397\n",
       "V26        -2.604551\n",
       "V27       -22.565679\n",
       "V28       -15.430084\n",
       "Amount      0.000000\n",
       "Class       0.000000\n",
       "dtype: float64"
      ]
     },
     "execution_count": 9,
     "metadata": {},
     "output_type": "execute_result"
    }
   ],
   "source": [
    "data.min()"
   ]
  },
  {
   "cell_type": "code",
   "execution_count": 10,
   "id": "b0a665cd",
   "metadata": {},
   "outputs": [
    {
     "data": {
      "text/plain": [
       "0              0.0\n",
       "1              0.0\n",
       "2              1.0\n",
       "3              1.0\n",
       "4              2.0\n",
       "            ...   \n",
       "284802    172786.0\n",
       "284803    172787.0\n",
       "284804    172788.0\n",
       "284805    172788.0\n",
       "284806    172792.0\n",
       "Name: Time, Length: 284807, dtype: float64"
      ]
     },
     "execution_count": 10,
     "metadata": {},
     "output_type": "execute_result"
    }
   ],
   "source": [
    "data['Time']"
   ]
  },
  {
   "cell_type": "code",
   "execution_count": 11,
   "id": "19733941",
   "metadata": {},
   "outputs": [
    {
     "data": {
      "text/html": [
       "<div>\n",
       "<style scoped>\n",
       "    .dataframe tbody tr th:only-of-type {\n",
       "        vertical-align: middle;\n",
       "    }\n",
       "\n",
       "    .dataframe tbody tr th {\n",
       "        vertical-align: top;\n",
       "    }\n",
       "\n",
       "    .dataframe thead th {\n",
       "        text-align: right;\n",
       "    }\n",
       "</style>\n",
       "<table border=\"1\" class=\"dataframe\">\n",
       "  <thead>\n",
       "    <tr style=\"text-align: right;\">\n",
       "      <th></th>\n",
       "      <th>V1</th>\n",
       "      <th>V2</th>\n",
       "      <th>V3</th>\n",
       "      <th>V4</th>\n",
       "      <th>V5</th>\n",
       "      <th>V6</th>\n",
       "      <th>V7</th>\n",
       "      <th>V8</th>\n",
       "      <th>V9</th>\n",
       "      <th>V10</th>\n",
       "      <th>...</th>\n",
       "      <th>V21</th>\n",
       "      <th>V22</th>\n",
       "      <th>V23</th>\n",
       "      <th>V24</th>\n",
       "      <th>V25</th>\n",
       "      <th>V26</th>\n",
       "      <th>V27</th>\n",
       "      <th>V28</th>\n",
       "      <th>Amount</th>\n",
       "      <th>Class</th>\n",
       "    </tr>\n",
       "  </thead>\n",
       "  <tbody>\n",
       "    <tr>\n",
       "      <th>0</th>\n",
       "      <td>-1.359807</td>\n",
       "      <td>-0.072781</td>\n",
       "      <td>2.536347</td>\n",
       "      <td>1.378155</td>\n",
       "      <td>-0.338321</td>\n",
       "      <td>0.462388</td>\n",
       "      <td>0.239599</td>\n",
       "      <td>0.098698</td>\n",
       "      <td>0.363787</td>\n",
       "      <td>0.090794</td>\n",
       "      <td>...</td>\n",
       "      <td>-0.018307</td>\n",
       "      <td>0.277838</td>\n",
       "      <td>-0.110474</td>\n",
       "      <td>0.066928</td>\n",
       "      <td>0.128539</td>\n",
       "      <td>-0.189115</td>\n",
       "      <td>0.133558</td>\n",
       "      <td>-0.021053</td>\n",
       "      <td>149.62</td>\n",
       "      <td>0</td>\n",
       "    </tr>\n",
       "    <tr>\n",
       "      <th>1</th>\n",
       "      <td>1.191857</td>\n",
       "      <td>0.266151</td>\n",
       "      <td>0.166480</td>\n",
       "      <td>0.448154</td>\n",
       "      <td>0.060018</td>\n",
       "      <td>-0.082361</td>\n",
       "      <td>-0.078803</td>\n",
       "      <td>0.085102</td>\n",
       "      <td>-0.255425</td>\n",
       "      <td>-0.166974</td>\n",
       "      <td>...</td>\n",
       "      <td>-0.225775</td>\n",
       "      <td>-0.638672</td>\n",
       "      <td>0.101288</td>\n",
       "      <td>-0.339846</td>\n",
       "      <td>0.167170</td>\n",
       "      <td>0.125895</td>\n",
       "      <td>-0.008983</td>\n",
       "      <td>0.014724</td>\n",
       "      <td>2.69</td>\n",
       "      <td>0</td>\n",
       "    </tr>\n",
       "    <tr>\n",
       "      <th>2</th>\n",
       "      <td>-1.358354</td>\n",
       "      <td>-1.340163</td>\n",
       "      <td>1.773209</td>\n",
       "      <td>0.379780</td>\n",
       "      <td>-0.503198</td>\n",
       "      <td>1.800499</td>\n",
       "      <td>0.791461</td>\n",
       "      <td>0.247676</td>\n",
       "      <td>-1.514654</td>\n",
       "      <td>0.207643</td>\n",
       "      <td>...</td>\n",
       "      <td>0.247998</td>\n",
       "      <td>0.771679</td>\n",
       "      <td>0.909412</td>\n",
       "      <td>-0.689281</td>\n",
       "      <td>-0.327642</td>\n",
       "      <td>-0.139097</td>\n",
       "      <td>-0.055353</td>\n",
       "      <td>-0.059752</td>\n",
       "      <td>378.66</td>\n",
       "      <td>0</td>\n",
       "    </tr>\n",
       "    <tr>\n",
       "      <th>3</th>\n",
       "      <td>-0.966272</td>\n",
       "      <td>-0.185226</td>\n",
       "      <td>1.792993</td>\n",
       "      <td>-0.863291</td>\n",
       "      <td>-0.010309</td>\n",
       "      <td>1.247203</td>\n",
       "      <td>0.237609</td>\n",
       "      <td>0.377436</td>\n",
       "      <td>-1.387024</td>\n",
       "      <td>-0.054952</td>\n",
       "      <td>...</td>\n",
       "      <td>-0.108300</td>\n",
       "      <td>0.005274</td>\n",
       "      <td>-0.190321</td>\n",
       "      <td>-1.175575</td>\n",
       "      <td>0.647376</td>\n",
       "      <td>-0.221929</td>\n",
       "      <td>0.062723</td>\n",
       "      <td>0.061458</td>\n",
       "      <td>123.50</td>\n",
       "      <td>0</td>\n",
       "    </tr>\n",
       "    <tr>\n",
       "      <th>4</th>\n",
       "      <td>-1.158233</td>\n",
       "      <td>0.877737</td>\n",
       "      <td>1.548718</td>\n",
       "      <td>0.403034</td>\n",
       "      <td>-0.407193</td>\n",
       "      <td>0.095921</td>\n",
       "      <td>0.592941</td>\n",
       "      <td>-0.270533</td>\n",
       "      <td>0.817739</td>\n",
       "      <td>0.753074</td>\n",
       "      <td>...</td>\n",
       "      <td>-0.009431</td>\n",
       "      <td>0.798278</td>\n",
       "      <td>-0.137458</td>\n",
       "      <td>0.141267</td>\n",
       "      <td>-0.206010</td>\n",
       "      <td>0.502292</td>\n",
       "      <td>0.219422</td>\n",
       "      <td>0.215153</td>\n",
       "      <td>69.99</td>\n",
       "      <td>0</td>\n",
       "    </tr>\n",
       "  </tbody>\n",
       "</table>\n",
       "<p>5 rows × 30 columns</p>\n",
       "</div>"
      ],
      "text/plain": [
       "         V1        V2        V3        V4        V5        V6        V7  \\\n",
       "0 -1.359807 -0.072781  2.536347  1.378155 -0.338321  0.462388  0.239599   \n",
       "1  1.191857  0.266151  0.166480  0.448154  0.060018 -0.082361 -0.078803   \n",
       "2 -1.358354 -1.340163  1.773209  0.379780 -0.503198  1.800499  0.791461   \n",
       "3 -0.966272 -0.185226  1.792993 -0.863291 -0.010309  1.247203  0.237609   \n",
       "4 -1.158233  0.877737  1.548718  0.403034 -0.407193  0.095921  0.592941   \n",
       "\n",
       "         V8        V9       V10  ...       V21       V22       V23       V24  \\\n",
       "0  0.098698  0.363787  0.090794  ... -0.018307  0.277838 -0.110474  0.066928   \n",
       "1  0.085102 -0.255425 -0.166974  ... -0.225775 -0.638672  0.101288 -0.339846   \n",
       "2  0.247676 -1.514654  0.207643  ...  0.247998  0.771679  0.909412 -0.689281   \n",
       "3  0.377436 -1.387024 -0.054952  ... -0.108300  0.005274 -0.190321 -1.175575   \n",
       "4 -0.270533  0.817739  0.753074  ... -0.009431  0.798278 -0.137458  0.141267   \n",
       "\n",
       "        V25       V26       V27       V28  Amount  Class  \n",
       "0  0.128539 -0.189115  0.133558 -0.021053  149.62      0  \n",
       "1  0.167170  0.125895 -0.008983  0.014724    2.69      0  \n",
       "2 -0.327642 -0.139097 -0.055353 -0.059752  378.66      0  \n",
       "3  0.647376 -0.221929  0.062723  0.061458  123.50      0  \n",
       "4 -0.206010  0.502292  0.219422  0.215153   69.99      0  \n",
       "\n",
       "[5 rows x 30 columns]"
      ]
     },
     "execution_count": 11,
     "metadata": {},
     "output_type": "execute_result"
    }
   ],
   "source": [
    "#we will remove 'Time' as we are not using time to identify the qualities of a fraudulent transaction\n",
    "data.drop('Time',axis=1,inplace=True)\n",
    "data.head()"
   ]
  },
  {
   "cell_type": "code",
   "execution_count": 12,
   "id": "33938202",
   "metadata": {},
   "outputs": [
    {
     "data": {
      "text/plain": [
       "V1     V2     V3     V4     V5     V6     V7     V8     V9     V10    V11    V12    V13    V14    V15    V16    V17    V18    V19    V20    V21    V22    V23    V24    V25    V26    V27    V28    Amount  Class\n",
       "False  False  False  False  False  False  False  False  False  False  False  False  False  False  False  False  False  False  False  False  False  False  False  False  False  False  False  False  False   False    284807\n",
       "dtype: int64"
      ]
     },
     "execution_count": 12,
     "metadata": {},
     "output_type": "execute_result"
    }
   ],
   "source": [
    "#Checking for Missing Values\n",
    "data.isnull().value_counts()"
   ]
  },
  {
   "cell_type": "code",
   "execution_count": 13,
   "id": "59db5a28",
   "metadata": {},
   "outputs": [
    {
     "data": {
      "text/plain": [
       "<AxesSubplot:>"
      ]
     },
     "execution_count": 13,
     "metadata": {},
     "output_type": "execute_result"
    },
    {
     "data": {
      "image/png": "[encoded data removed]",
      "text/plain": [
       "<Figure size 792x648 with 1 Axes>"
      ]
     },
     "metadata": {
      "needs_background": "light"
     },
     "output_type": "display_data"
    }
   ],
   "source": [
    "plt.subplots(figsize=(11,9))\n",
    "sns.heatmap(data.isnull(), cbar=False)"
   ]
  },
  {
   "cell_type": "code",
   "execution_count": 14,
   "id": "9c57c3eb",
   "metadata": {},
   "outputs": [
    {
     "data": {
      "text/plain": [
       "<AxesSubplot:xlabel='Class', ylabel='count'>"
      ]
     },
     "execution_count": 14,
     "metadata": {},
     "output_type": "execute_result"
    },
    {
     "data": {
      "image/png": "[encoded data removed]",
      "text/plain": [
       "<Figure size 432x288 with 1 Axes>"
      ]
     },
     "metadata": {
      "needs_background": "light"
     },
     "output_type": "display_data"
    }
   ],
   "source": [
    "#Checking for Imbalanced Dataset\n",
    "sns.countplot(x='Class',data=data)"
   ]
  },
  {
   "cell_type": "code",
   "execution_count": 15,
   "id": "42181249",
   "metadata": {},
   "outputs": [
    {
     "data": {
      "text/plain": [
       "0    284315\n",
       "1       492\n",
       "Name: Class, dtype: int64"
      ]
     },
     "execution_count": 15,
     "metadata": {},
     "output_type": "execute_result"
    }
   ],
   "source": [
    "data['Class'].value_counts()"
   ]
  },
  {
   "cell_type": "markdown",
   "id": "4c966715",
   "metadata": {},
   "source": [
    "# Dealing with Imbalanced data\n",
    "The key to dealing with an imbalanced dataset is to \"artificially balance\" the data. We can do this by using a number of methods including *synthetic data* which are datapoints created to emulate the real-world data. However, in this case we will be using *resampling* which simply repeats cases within the \"minority\" class until we've reached the desired amount of datapoints. In practice, resampling usually has a better result than synthetic data when balancing the dataset. In addition to resampling the minority class (*fraud*) we will also reduce the number of samples from the majority class since there are excessively more datapoints than needed. Technically, we are *upsampling* the minority and *downsampling* the majority class"
   ]
  },
  {
   "cell_type": "code",
   "execution_count": 16,
   "id": "9e304f7e",
   "metadata": {},
   "outputs": [],
   "source": [
    "data_valid = data[data['Class']==0]\n",
    "data_fraud = data[data['Class']==1]"
   ]
  },
  {
   "cell_type": "code",
   "execution_count": 17,
   "id": "54a9a57e",
   "metadata": {},
   "outputs": [],
   "source": [
    "from sklearn.utils import resample\n",
    "data_valid_downsampled = resample(data_valid,\n",
    "                                 replace=False,\n",
    "                                 n_samples=50000,\n",
    "                                 random_state=42)\n",
    "\n",
    "data_fraud_upsampled = resample(data_fraud,\n",
    "                               replace=True,\n",
    "                               n_samples=50000,\n",
    "                               random_state=42)"
   ]
  },
  {
   "cell_type": "code",
   "execution_count": 18,
   "id": "c53edb71",
   "metadata": {},
   "outputs": [],
   "source": [
    "data_balanced = pd.concat([data_valid_downsampled,data_fraud_upsampled])"
   ]
  },
  {
   "cell_type": "code",
   "execution_count": 19,
   "id": "535ff65f",
   "metadata": {},
   "outputs": [
    {
     "name": "stdout",
     "output_type": "stream",
     "text": [
      "<class 'pandas.core.frame.DataFrame'>\n",
      "Int64Index: 100000 entries, 138028 to 94218\n",
      "Data columns (total 30 columns):\n",
      " #   Column  Non-Null Count   Dtype  \n",
      "---  ------  --------------   -----  \n",
      " 0   V1      100000 non-null  float64\n",
      " 1   V2      100000 non-null  float64\n",
      " 2   V3      100000 non-null  float64\n",
      " 3   V4      100000 non-null  float64\n",
      " 4   V5      100000 non-null  float64\n",
      " 5   V6      100000 non-null  float64\n",
      " 6   V7      100000 non-null  float64\n",
      " 7   V8      100000 non-null  float64\n",
      " 8   V9      100000 non-null  float64\n",
      " 9   V10     100000 non-null  float64\n",
      " 10  V11     100000 non-null  float64\n",
      " 11  V12     100000 non-null  float64\n",
      " 12  V13     100000 non-null  float64\n",
      " 13  V14     100000 non-null  float64\n",
      " 14  V15     100000 non-null  float64\n",
      " 15  V16     100000 non-null  float64\n",
      " 16  V17     100000 non-null  float64\n",
      " 17  V18     100000 non-null  float64\n",
      " 18  V19     100000 non-null  float64\n",
      " 19  V20     100000 non-null  float64\n",
      " 20  V21     100000 non-null  float64\n",
      " 21  V22     100000 non-null  float64\n",
      " 22  V23     100000 non-null  float64\n",
      " 23  V24     100000 non-null  float64\n",
      " 24  V25     100000 non-null  float64\n",
      " 25  V26     100000 non-null  float64\n",
      " 26  V27     100000 non-null  float64\n",
      " 27  V28     100000 non-null  float64\n",
      " 28  Amount  100000 non-null  float64\n",
      " 29  Class   100000 non-null  int64  \n",
      "dtypes: float64(29), int64(1)\n",
      "memory usage: 23.7 MB\n"
     ]
    }
   ],
   "source": [
    "data_balanced.info()"
   ]
  },
  {
   "cell_type": "code",
   "execution_count": 20,
   "id": "ff360645",
   "metadata": {},
   "outputs": [
    {
     "data": {
      "text/html": [
       "<div>\n",
       "<style scoped>\n",
       "    .dataframe tbody tr th:only-of-type {\n",
       "        vertical-align: middle;\n",
       "    }\n",
       "\n",
       "    .dataframe tbody tr th {\n",
       "        vertical-align: top;\n",
       "    }\n",
       "\n",
       "    .dataframe thead th {\n",
       "        text-align: right;\n",
       "    }\n",
       "</style>\n",
       "<table border=\"1\" class=\"dataframe\">\n",
       "  <thead>\n",
       "    <tr style=\"text-align: right;\">\n",
       "      <th></th>\n",
       "      <th>V1</th>\n",
       "      <th>V2</th>\n",
       "      <th>V3</th>\n",
       "      <th>V4</th>\n",
       "      <th>V5</th>\n",
       "      <th>V6</th>\n",
       "      <th>V7</th>\n",
       "      <th>V8</th>\n",
       "      <th>V9</th>\n",
       "      <th>V10</th>\n",
       "      <th>...</th>\n",
       "      <th>V21</th>\n",
       "      <th>V22</th>\n",
       "      <th>V23</th>\n",
       "      <th>V24</th>\n",
       "      <th>V25</th>\n",
       "      <th>V26</th>\n",
       "      <th>V27</th>\n",
       "      <th>V28</th>\n",
       "      <th>Amount</th>\n",
       "      <th>Class</th>\n",
       "    </tr>\n",
       "  </thead>\n",
       "  <tbody>\n",
       "    <tr>\n",
       "      <th>138028</th>\n",
       "      <td>1.314539</td>\n",
       "      <td>0.590643</td>\n",
       "      <td>-0.666593</td>\n",
       "      <td>0.716564</td>\n",
       "      <td>0.301978</td>\n",
       "      <td>-1.125467</td>\n",
       "      <td>0.388881</td>\n",
       "      <td>-0.288390</td>\n",
       "      <td>-0.132137</td>\n",
       "      <td>-0.597739</td>\n",
       "      <td>...</td>\n",
       "      <td>-0.170307</td>\n",
       "      <td>-0.429655</td>\n",
       "      <td>-0.141341</td>\n",
       "      <td>-0.200195</td>\n",
       "      <td>0.639491</td>\n",
       "      <td>0.399476</td>\n",
       "      <td>-0.034321</td>\n",
       "      <td>0.031692</td>\n",
       "      <td>0.76</td>\n",
       "      <td>0</td>\n",
       "    </tr>\n",
       "    <tr>\n",
       "      <th>63099</th>\n",
       "      <td>-0.798672</td>\n",
       "      <td>1.185093</td>\n",
       "      <td>0.904547</td>\n",
       "      <td>0.694584</td>\n",
       "      <td>0.219041</td>\n",
       "      <td>-0.319295</td>\n",
       "      <td>0.495236</td>\n",
       "      <td>0.139269</td>\n",
       "      <td>-0.760214</td>\n",
       "      <td>0.170547</td>\n",
       "      <td>...</td>\n",
       "      <td>0.202287</td>\n",
       "      <td>0.578699</td>\n",
       "      <td>-0.092245</td>\n",
       "      <td>0.013723</td>\n",
       "      <td>-0.246466</td>\n",
       "      <td>-0.380057</td>\n",
       "      <td>-0.396030</td>\n",
       "      <td>-0.112901</td>\n",
       "      <td>4.18</td>\n",
       "      <td>0</td>\n",
       "    </tr>\n",
       "    <tr>\n",
       "      <th>73411</th>\n",
       "      <td>-0.391128</td>\n",
       "      <td>-0.245540</td>\n",
       "      <td>1.122074</td>\n",
       "      <td>-1.308725</td>\n",
       "      <td>-0.639891</td>\n",
       "      <td>0.008678</td>\n",
       "      <td>-0.701304</td>\n",
       "      <td>-0.027315</td>\n",
       "      <td>-2.628854</td>\n",
       "      <td>2.051312</td>\n",
       "      <td>...</td>\n",
       "      <td>-0.133485</td>\n",
       "      <td>0.117403</td>\n",
       "      <td>-0.191748</td>\n",
       "      <td>-0.488642</td>\n",
       "      <td>-0.309774</td>\n",
       "      <td>0.008100</td>\n",
       "      <td>0.163716</td>\n",
       "      <td>0.239582</td>\n",
       "      <td>15.00</td>\n",
       "      <td>0</td>\n",
       "    </tr>\n",
       "    <tr>\n",
       "      <th>164247</th>\n",
       "      <td>-0.060302</td>\n",
       "      <td>1.065093</td>\n",
       "      <td>-0.987421</td>\n",
       "      <td>-0.029567</td>\n",
       "      <td>0.176376</td>\n",
       "      <td>-1.348539</td>\n",
       "      <td>0.775644</td>\n",
       "      <td>0.134843</td>\n",
       "      <td>-0.149734</td>\n",
       "      <td>-1.238598</td>\n",
       "      <td>...</td>\n",
       "      <td>0.355576</td>\n",
       "      <td>0.907570</td>\n",
       "      <td>-0.018454</td>\n",
       "      <td>-0.126269</td>\n",
       "      <td>-0.339923</td>\n",
       "      <td>-0.150285</td>\n",
       "      <td>-0.023634</td>\n",
       "      <td>0.042330</td>\n",
       "      <td>57.00</td>\n",
       "      <td>0</td>\n",
       "    </tr>\n",
       "    <tr>\n",
       "      <th>148999</th>\n",
       "      <td>1.848433</td>\n",
       "      <td>0.373364</td>\n",
       "      <td>0.269272</td>\n",
       "      <td>3.866438</td>\n",
       "      <td>0.088062</td>\n",
       "      <td>0.970447</td>\n",
       "      <td>-0.721945</td>\n",
       "      <td>0.235983</td>\n",
       "      <td>0.683491</td>\n",
       "      <td>1.166335</td>\n",
       "      <td>...</td>\n",
       "      <td>0.103563</td>\n",
       "      <td>0.620954</td>\n",
       "      <td>0.197077</td>\n",
       "      <td>0.692392</td>\n",
       "      <td>-0.206530</td>\n",
       "      <td>-0.021328</td>\n",
       "      <td>-0.019823</td>\n",
       "      <td>-0.042682</td>\n",
       "      <td>0.00</td>\n",
       "      <td>0</td>\n",
       "    </tr>\n",
       "  </tbody>\n",
       "</table>\n",
       "<p>5 rows × 30 columns</p>\n",
       "</div>"
      ],
      "text/plain": [
       "              V1        V2        V3        V4        V5        V6        V7  \\\n",
       "138028  1.314539  0.590643 -0.666593  0.716564  0.301978 -1.125467  0.388881   \n",
       "63099  -0.798672  1.185093  0.904547  0.694584  0.219041 -0.319295  0.495236   \n",
       "73411  -0.391128 -0.245540  1.122074 -1.308725 -0.639891  0.008678 -0.701304   \n",
       "164247 -0.060302  1.065093 -0.987421 -0.029567  0.176376 -1.348539  0.775644   \n",
       "148999  1.848433  0.373364  0.269272  3.866438  0.088062  0.970447 -0.721945   \n",
       "\n",
       "              V8        V9       V10  ...       V21       V22       V23  \\\n",
       "138028 -0.288390 -0.132137 -0.597739  ... -0.170307 -0.429655 -0.141341   \n",
       "63099   0.139269 -0.760214  0.170547  ...  0.202287  0.578699 -0.092245   \n",
       "73411  -0.027315 -2.628854  2.051312  ... -0.133485  0.117403 -0.191748   \n",
       "164247  0.134843 -0.149734 -1.238598  ...  0.355576  0.907570 -0.018454   \n",
       "148999  0.235983  0.683491  1.166335  ...  0.103563  0.620954  0.197077   \n",
       "\n",
       "             V24       V25       V26       V27       V28  Amount  Class  \n",
       "138028 -0.200195  0.639491  0.399476 -0.034321  0.031692    0.76      0  \n",
       "63099   0.013723 -0.246466 -0.380057 -0.396030 -0.112901    4.18      0  \n",
       "73411  -0.488642 -0.309774  0.008100  0.163716  0.239582   15.00      0  \n",
       "164247 -0.126269 -0.339923 -0.150285 -0.023634  0.042330   57.00      0  \n",
       "148999  0.692392 -0.206530 -0.021328 -0.019823 -0.042682    0.00      0  \n",
       "\n",
       "[5 rows x 30 columns]"
      ]
     },
     "execution_count": 20,
     "metadata": {},
     "output_type": "execute_result"
    }
   ],
   "source": [
    "data_balanced.head()"
   ]
  },
  {
   "cell_type": "code",
   "execution_count": 21,
   "id": "5ef5e0f7",
   "metadata": {},
   "outputs": [
    {
     "data": {
      "text/plain": [
       "<AxesSubplot:xlabel='Class', ylabel='count'>"
      ]
     },
     "execution_count": 21,
     "metadata": {},
     "output_type": "execute_result"
    },
    {
     "data": {
      "image/png": "[encoded data removed]",
      "text/plain": [
       "<Figure size 432x288 with 1 Axes>"
      ]
     },
     "metadata": {
      "needs_background": "light"
     },
     "output_type": "display_data"
    }
   ],
   "source": [
    "#balanced dataset after resampling\n",
    "sns.countplot(x='Class',data=data_balanced)"
   ]
  },
  {
   "cell_type": "code",
   "execution_count": 22,
   "id": "16f10304",
   "metadata": {},
   "outputs": [],
   "source": [
    "#normalizing the dataset\n",
    "from sklearn.preprocessing import StandardScaler\n",
    "scaler = StandardScaler()\n",
    "data_normal = scaler.fit_transform(data_balanced.drop('Class',axis=1))"
   ]
  },
  {
   "cell_type": "code",
   "execution_count": 23,
   "id": "4a5d0fc8",
   "metadata": {},
   "outputs": [],
   "source": [
    "from sklearn.model_selection import train_test_split\n",
    "\n",
    "X = data_normal\n",
    "y = data_balanced['Class']\n",
    "\n",
    "X_train, X_test, y_train, y_test = train_test_split(X, y, test_size=0.2, random_state=42)"
   ]
  },
  {
   "cell_type": "markdown",
   "id": "7a1355df",
   "metadata": {},
   "source": [
    "# Random Forest\n",
    "We choose the random forest algorithm as its hierarchical structure is well-suited to the task of an imbalanced dataset. Other potential alternatives are generally other semi-related ensemble methods such as the gradient boost family of algorithms including adaboost. Random Forest is an efficient and simple algorithm to run that has a reputation of strong performance on this very task"
   ]
  },
  {
   "cell_type": "code",
   "execution_count": 24,
   "id": "f1ea14e5",
   "metadata": {},
   "outputs": [],
   "source": [
    "from sklearn.ensemble import RandomForestClassifier\n",
    "randforest = RandomForestClassifier()"
   ]
  },
  {
   "cell_type": "markdown",
   "id": "b7e4cfbd",
   "metadata": {},
   "source": [
    "## Hyperparameter Tuning\n",
    "We will need to select from a number of hyperparameters for [Random Forest](https://tinyurl.com/random-forest-sklearn). The most important of which are as follows:\n",
    "\n",
    "* **n_estimators**: The number of trees in the forest.\n",
    "* **max_depth**: The maximum depth of the tree. If None, then nodes are expanded until all leaves are pure or until all leaves contain less than min_samples_split samples.\n",
    "* **min_samples_split**: The minimum number of samples required to split an internal node\n",
    "* **min_samples_leaf**: The minimum number of samples required to be at a leaf node. A split point at any depth will only be considered if it leaves at least min_samples_leaf training samples in each of the left and right branches. This may have the effect of smoothing the model, especially in regression.\n",
    "\n",
    "To help us select appropriate hyperparameter settings we will use **RandomizedSearchCV** to quickly run through a number of parameters. We will then follow-up this process using **GridSearchCV** in a more focused hyperparameter search"
   ]
  },
  {
   "cell_type": "code",
   "execution_count": 25,
   "id": "d52fcd9e",
   "metadata": {},
   "outputs": [],
   "source": [
    "from sklearn.model_selection import RandomizedSearchCV, GridSearchCV"
   ]
  },
  {
   "cell_type": "code",
   "execution_count": 26,
   "id": "a758e4d5",
   "metadata": {},
   "outputs": [],
   "source": [
    "rand_range = [i for i in range(2,11)]\n",
    "\n",
    "param_distributions = {'n_estimators':rand_range,\n",
    "                       'max_depth':rand_range,\n",
    "                       'min_samples_split':rand_range,\n",
    "                       'min_samples_leaf':rand_range}"
   ]
  },
  {
   "cell_type": "code",
   "execution_count": 27,
   "id": "c0fa9ff5",
   "metadata": {},
   "outputs": [],
   "source": [
    "rand_grid = RandomizedSearchCV(estimator=randforest,\n",
    "                               param_distributions=param_distributions,\n",
    "                               n_iter=50,\n",
    "                               cv=10,\n",
    "                               random_state=42,\n",
    "                               n_jobs=10,\n",
    "                               verbose=2)"
   ]
  },
  {
   "cell_type": "code",
   "execution_count": 28,
   "id": "82828007",
   "metadata": {},
   "outputs": [
    {
     "name": "stdout",
     "output_type": "stream",
     "text": [
      "Fitting 10 folds for each of 50 candidates, totalling 500 fits\n",
      "Wall time: 56.5 s\n"
     ]
    },
    {
     "data": {
      "text/plain": [
       "RandomizedSearchCV(cv=10, estimator=RandomForestClassifier(), n_iter=50,\n",
       "                   n_jobs=10,\n",
       "                   param_distributions={'max_depth': [2, 3, 4, 5, 6, 7, 8, 9,\n",
       "                                                      10],\n",
       "                                        'min_samples_leaf': [2, 3, 4, 5, 6, 7,\n",
       "                                                             8, 9, 10],\n",
       "                                        'min_samples_split': [2, 3, 4, 5, 6, 7,\n",
       "                                                              8, 9, 10],\n",
       "                                        'n_estimators': [2, 3, 4, 5, 6, 7, 8, 9,\n",
       "                                                         10]},\n",
       "                   random_state=42, verbose=2)"
      ]
     },
     "execution_count": 28,
     "metadata": {},
     "output_type": "execute_result"
    }
   ],
   "source": [
    "%%time\n",
    "rand_grid.fit(X_train,y_train)"
   ]
  },
  {
   "cell_type": "code",
   "execution_count": 29,
   "id": "d5249083",
   "metadata": {},
   "outputs": [
    {
     "name": "stdout",
     "output_type": "stream",
     "text": [
      "Best Estimator: RandomForestClassifier(max_depth=10, min_samples_leaf=7, min_samples_split=5,\n",
      "                       n_estimators=3)\n",
      "\n",
      "Best Estimator: {'n_estimators': 3, 'min_samples_split': 5, 'min_samples_leaf': 7, 'max_depth': 10}\n",
      "\n",
      "Best Score: 0.9908125\n"
     ]
    }
   ],
   "source": [
    "print(f'Best Estimator: {rand_grid.best_estimator_}\\n')\n",
    "print(f'Best Estimator: {rand_grid.best_params_}\\n')\n",
    "print(f'Best Score: {rand_grid.best_score_}')"
   ]
  },
  {
   "cell_type": "code",
   "execution_count": 30,
   "id": "ed1c3691",
   "metadata": {},
   "outputs": [
    {
     "data": {
      "text/html": [
       "<div>\n",
       "<style scoped>\n",
       "    .dataframe tbody tr th:only-of-type {\n",
       "        vertical-align: middle;\n",
       "    }\n",
       "\n",
       "    .dataframe tbody tr th {\n",
       "        vertical-align: top;\n",
       "    }\n",
       "\n",
       "    .dataframe thead th {\n",
       "        text-align: right;\n",
       "    }\n",
       "</style>\n",
       "<table border=\"1\" class=\"dataframe\">\n",
       "  <thead>\n",
       "    <tr style=\"text-align: right;\">\n",
       "      <th></th>\n",
       "      <th>mean_fit_time</th>\n",
       "      <th>std_fit_time</th>\n",
       "      <th>mean_score_time</th>\n",
       "      <th>std_score_time</th>\n",
       "      <th>param_n_estimators</th>\n",
       "      <th>param_min_samples_split</th>\n",
       "      <th>param_min_samples_leaf</th>\n",
       "      <th>param_max_depth</th>\n",
       "      <th>params</th>\n",
       "      <th>split0_test_score</th>\n",
       "      <th>...</th>\n",
       "      <th>split3_test_score</th>\n",
       "      <th>split4_test_score</th>\n",
       "      <th>split5_test_score</th>\n",
       "      <th>split6_test_score</th>\n",
       "      <th>split7_test_score</th>\n",
       "      <th>split8_test_score</th>\n",
       "      <th>split9_test_score</th>\n",
       "      <th>mean_test_score</th>\n",
       "      <th>std_test_score</th>\n",
       "      <th>rank_test_score</th>\n",
       "    </tr>\n",
       "  </thead>\n",
       "  <tbody>\n",
       "    <tr>\n",
       "      <th>0</th>\n",
       "      <td>0.739907</td>\n",
       "      <td>0.035786</td>\n",
       "      <td>0.007699</td>\n",
       "      <td>0.002089</td>\n",
       "      <td>7</td>\n",
       "      <td>7</td>\n",
       "      <td>3</td>\n",
       "      <td>3</td>\n",
       "      <td>{'n_estimators': 7, 'min_samples_split': 7, 'm...</td>\n",
       "      <td>0.937000</td>\n",
       "      <td>...</td>\n",
       "      <td>0.932875</td>\n",
       "      <td>0.924500</td>\n",
       "      <td>0.932125</td>\n",
       "      <td>0.939125</td>\n",
       "      <td>0.934375</td>\n",
       "      <td>0.934125</td>\n",
       "      <td>0.933375</td>\n",
       "      <td>0.934088</td>\n",
       "      <td>0.003949</td>\n",
       "      <td>45</td>\n",
       "    </tr>\n",
       "    <tr>\n",
       "      <th>1</th>\n",
       "      <td>2.358947</td>\n",
       "      <td>0.036419</td>\n",
       "      <td>0.010198</td>\n",
       "      <td>0.001940</td>\n",
       "      <td>10</td>\n",
       "      <td>6</td>\n",
       "      <td>5</td>\n",
       "      <td>9</td>\n",
       "      <td>{'n_estimators': 10, 'min_samples_split': 6, '...</td>\n",
       "      <td>0.984375</td>\n",
       "      <td>...</td>\n",
       "      <td>0.984125</td>\n",
       "      <td>0.983000</td>\n",
       "      <td>0.987250</td>\n",
       "      <td>0.984875</td>\n",
       "      <td>0.979750</td>\n",
       "      <td>0.985125</td>\n",
       "      <td>0.988375</td>\n",
       "      <td>0.984900</td>\n",
       "      <td>0.002372</td>\n",
       "      <td>10</td>\n",
       "    </tr>\n",
       "    <tr>\n",
       "      <th>2</th>\n",
       "      <td>1.917196</td>\n",
       "      <td>0.046255</td>\n",
       "      <td>0.009879</td>\n",
       "      <td>0.001583</td>\n",
       "      <td>8</td>\n",
       "      <td>6</td>\n",
       "      <td>3</td>\n",
       "      <td>9</td>\n",
       "      <td>{'n_estimators': 8, 'min_samples_split': 6, 'm...</td>\n",
       "      <td>0.982750</td>\n",
       "      <td>...</td>\n",
       "      <td>0.984125</td>\n",
       "      <td>0.983125</td>\n",
       "      <td>0.994250</td>\n",
       "      <td>0.988375</td>\n",
       "      <td>0.987500</td>\n",
       "      <td>0.982750</td>\n",
       "      <td>0.987500</td>\n",
       "      <td>0.986500</td>\n",
       "      <td>0.003357</td>\n",
       "      <td>6</td>\n",
       "    </tr>\n",
       "    <tr>\n",
       "      <th>3</th>\n",
       "      <td>2.150866</td>\n",
       "      <td>0.063477</td>\n",
       "      <td>0.008780</td>\n",
       "      <td>0.001112</td>\n",
       "      <td>9</td>\n",
       "      <td>2</td>\n",
       "      <td>3</td>\n",
       "      <td>9</td>\n",
       "      <td>{'n_estimators': 9, 'min_samples_split': 2, 'm...</td>\n",
       "      <td>0.988250</td>\n",
       "      <td>...</td>\n",
       "      <td>0.985625</td>\n",
       "      <td>0.985000</td>\n",
       "      <td>0.983625</td>\n",
       "      <td>0.986000</td>\n",
       "      <td>0.984250</td>\n",
       "      <td>0.985000</td>\n",
       "      <td>0.986500</td>\n",
       "      <td>0.986237</td>\n",
       "      <td>0.002023</td>\n",
       "      <td>7</td>\n",
       "    </tr>\n",
       "    <tr>\n",
       "      <th>4</th>\n",
       "      <td>0.691339</td>\n",
       "      <td>0.015728</td>\n",
       "      <td>0.005001</td>\n",
       "      <td>0.001000</td>\n",
       "      <td>3</td>\n",
       "      <td>7</td>\n",
       "      <td>3</td>\n",
       "      <td>7</td>\n",
       "      <td>{'n_estimators': 3, 'min_samples_split': 7, 'm...</td>\n",
       "      <td>0.974500</td>\n",
       "      <td>...</td>\n",
       "      <td>0.977375</td>\n",
       "      <td>0.970375</td>\n",
       "      <td>0.975125</td>\n",
       "      <td>0.972500</td>\n",
       "      <td>0.968375</td>\n",
       "      <td>0.968125</td>\n",
       "      <td>0.977125</td>\n",
       "      <td>0.971675</td>\n",
       "      <td>0.004263</td>\n",
       "      <td>20</td>\n",
       "    </tr>\n",
       "  </tbody>\n",
       "</table>\n",
       "<p>5 rows × 22 columns</p>\n",
       "</div>"
      ],
      "text/plain": [
       "   mean_fit_time  std_fit_time  mean_score_time  std_score_time  \\\n",
       "0       0.739907      0.035786         0.007699        0.002089   \n",
       "1       2.358947      0.036419         0.010198        0.001940   \n",
       "2       1.917196      0.046255         0.009879        0.001583   \n",
       "3       2.150866      0.063477         0.008780        0.001112   \n",
       "4       0.691339      0.015728         0.005001        0.001000   \n",
       "\n",
       "  param_n_estimators param_min_samples_split param_min_samples_leaf  \\\n",
       "0                  7                       7                      3   \n",
       "1                 10                       6                      5   \n",
       "2                  8                       6                      3   \n",
       "3                  9                       2                      3   \n",
       "4                  3                       7                      3   \n",
       "\n",
       "  param_max_depth                                             params  \\\n",
       "0               3  {'n_estimators': 7, 'min_samples_split': 7, 'm...   \n",
       "1               9  {'n_estimators': 10, 'min_samples_split': 6, '...   \n",
       "2               9  {'n_estimators': 8, 'min_samples_split': 6, 'm...   \n",
       "3               9  {'n_estimators': 9, 'min_samples_split': 2, 'm...   \n",
       "4               7  {'n_estimators': 3, 'min_samples_split': 7, 'm...   \n",
       "\n",
       "   split0_test_score  ...  split3_test_score  split4_test_score  \\\n",
       "0           0.937000  ...           0.932875           0.924500   \n",
       "1           0.984375  ...           0.984125           0.983000   \n",
       "2           0.982750  ...           0.984125           0.983125   \n",
       "3           0.988250  ...           0.985625           0.985000   \n",
       "4           0.974500  ...           0.977375           0.970375   \n",
       "\n",
       "   split5_test_score  split6_test_score  split7_test_score  split8_test_score  \\\n",
       "0           0.932125           0.939125           0.934375           0.934125   \n",
       "1           0.987250           0.984875           0.979750           0.985125   \n",
       "2           0.994250           0.988375           0.987500           0.982750   \n",
       "3           0.983625           0.986000           0.984250           0.985000   \n",
       "4           0.975125           0.972500           0.968375           0.968125   \n",
       "\n",
       "   split9_test_score  mean_test_score  std_test_score  rank_test_score  \n",
       "0           0.933375         0.934088        0.003949               45  \n",
       "1           0.988375         0.984900        0.002372               10  \n",
       "2           0.987500         0.986500        0.003357                6  \n",
       "3           0.986500         0.986237        0.002023                7  \n",
       "4           0.977125         0.971675        0.004263               20  \n",
       "\n",
       "[5 rows x 22 columns]"
      ]
     },
     "execution_count": 30,
     "metadata": {},
     "output_type": "execute_result"
    }
   ],
   "source": [
    "rand_results = pd.DataFrame(rand_grid.cv_results_)\n",
    "rand_results.head()"
   ]
  },
  {
   "cell_type": "code",
   "execution_count": 31,
   "id": "0990ecb5",
   "metadata": {},
   "outputs": [
    {
     "data": {
      "text/plain": [
       "<seaborn.axisgrid.PairGrid at 0x2439443fc70>"
      ]
     },
     "execution_count": 31,
     "metadata": {},
     "output_type": "execute_result"
    },
    {
     "data": {
      "image/png": "[encoded data removed]",
      "text/plain": [
       "<Figure size 864x360 with 4 Axes>"
      ]
     },
     "metadata": {
      "needs_background": "light"
     },
     "output_type": "display_data"
    }
   ],
   "source": [
    "params = ['param_max_depth', \n",
    "          'param_min_samples_leaf', \n",
    "          'param_min_samples_split',\n",
    "          'param_n_estimators']\n",
    "\n",
    "g = sns.PairGrid(data=rand_results, x_vars=params,y_vars='mean_test_score',height=5, aspect=.6)\n",
    "g.map(sns.lineplot)"
   ]
  },
  {
   "cell_type": "code",
   "execution_count": 32,
   "id": "17418ae8",
   "metadata": {},
   "outputs": [],
   "source": [
    "max_depth = [i for i in range(8,12)]\n",
    "min_samples_split = [5, 8, 10]\n",
    "min_samples_leaf = [4, 6, 9, 10]\n",
    "n_estimators = [3, 5, 8, 10]\n",
    "\n",
    "param_grid = {'max_depth':max_depth,\n",
    "             'min_samples_split':min_samples_split,\n",
    "             'min_samples_leaf':min_samples_leaf,\n",
    "             'n_estimators':n_estimators,}"
   ]
  },
  {
   "cell_type": "code",
   "execution_count": 34,
   "id": "42bebfa7",
   "metadata": {},
   "outputs": [],
   "source": [
    "gridcv = GridSearchCV(estimator=randforest,\n",
    "                      param_grid=param_grid,\n",
    "                      cv=10,\n",
    "                      n_jobs=10,\n",
    "                      verbose=2)"
   ]
  },
  {
   "cell_type": "code",
   "execution_count": 35,
   "id": "a5a1a62e",
   "metadata": {},
   "outputs": [
    {
     "name": "stdout",
     "output_type": "stream",
     "text": [
      "Fitting 10 folds for each of 192 candidates, totalling 1920 fits\n",
      "Wall time: 5min 8s\n"
     ]
    },
    {
     "data": {
      "text/plain": [
       "GridSearchCV(cv=10, estimator=RandomForestClassifier(), n_jobs=10,\n",
       "             param_grid={'max_depth': [8, 9, 10, 11],\n",
       "                         'min_samples_leaf': [4, 6, 9, 10],\n",
       "                         'min_samples_split': [5, 8, 10],\n",
       "                         'n_estimators': [3, 5, 8, 10]},\n",
       "             verbose=2)"
      ]
     },
     "execution_count": 35,
     "metadata": {},
     "output_type": "execute_result"
    }
   ],
   "source": [
    "%%time\n",
    "gridcv.fit(X_train,y_train)"
   ]
  },
  {
   "cell_type": "code",
   "execution_count": 36,
   "id": "f6540b46",
   "metadata": {},
   "outputs": [
    {
     "data": {
      "text/html": [
       "<div>\n",
       "<style scoped>\n",
       "    .dataframe tbody tr th:only-of-type {\n",
       "        vertical-align: middle;\n",
       "    }\n",
       "\n",
       "    .dataframe tbody tr th {\n",
       "        vertical-align: top;\n",
       "    }\n",
       "\n",
       "    .dataframe thead th {\n",
       "        text-align: right;\n",
       "    }\n",
       "</style>\n",
       "<table border=\"1\" class=\"dataframe\">\n",
       "  <thead>\n",
       "    <tr style=\"text-align: right;\">\n",
       "      <th></th>\n",
       "      <th>mean_fit_time</th>\n",
       "      <th>std_fit_time</th>\n",
       "      <th>mean_score_time</th>\n",
       "      <th>std_score_time</th>\n",
       "      <th>param_max_depth</th>\n",
       "      <th>param_min_samples_leaf</th>\n",
       "      <th>param_min_samples_split</th>\n",
       "      <th>param_n_estimators</th>\n",
       "      <th>params</th>\n",
       "      <th>split0_test_score</th>\n",
       "      <th>...</th>\n",
       "      <th>split3_test_score</th>\n",
       "      <th>split4_test_score</th>\n",
       "      <th>split5_test_score</th>\n",
       "      <th>split6_test_score</th>\n",
       "      <th>split7_test_score</th>\n",
       "      <th>split8_test_score</th>\n",
       "      <th>split9_test_score</th>\n",
       "      <th>mean_test_score</th>\n",
       "      <th>std_test_score</th>\n",
       "      <th>rank_test_score</th>\n",
       "    </tr>\n",
       "  </thead>\n",
       "  <tbody>\n",
       "    <tr>\n",
       "      <th>0</th>\n",
       "      <td>0.716371</td>\n",
       "      <td>0.039646</td>\n",
       "      <td>0.006502</td>\n",
       "      <td>0.001859</td>\n",
       "      <td>8</td>\n",
       "      <td>4</td>\n",
       "      <td>5</td>\n",
       "      <td>3</td>\n",
       "      <td>{'max_depth': 8, 'min_samples_leaf': 4, 'min_s...</td>\n",
       "      <td>0.979500</td>\n",
       "      <td>...</td>\n",
       "      <td>0.980500</td>\n",
       "      <td>0.976000</td>\n",
       "      <td>0.979250</td>\n",
       "      <td>0.980125</td>\n",
       "      <td>0.981375</td>\n",
       "      <td>0.976125</td>\n",
       "      <td>0.980750</td>\n",
       "      <td>0.979325</td>\n",
       "      <td>0.001830</td>\n",
       "      <td>179</td>\n",
       "    </tr>\n",
       "    <tr>\n",
       "      <th>1</th>\n",
       "      <td>1.127427</td>\n",
       "      <td>0.037619</td>\n",
       "      <td>0.006302</td>\n",
       "      <td>0.001100</td>\n",
       "      <td>8</td>\n",
       "      <td>4</td>\n",
       "      <td>5</td>\n",
       "      <td>5</td>\n",
       "      <td>{'max_depth': 8, 'min_samples_leaf': 4, 'min_s...</td>\n",
       "      <td>0.981250</td>\n",
       "      <td>...</td>\n",
       "      <td>0.979625</td>\n",
       "      <td>0.978750</td>\n",
       "      <td>0.971875</td>\n",
       "      <td>0.980875</td>\n",
       "      <td>0.981500</td>\n",
       "      <td>0.983750</td>\n",
       "      <td>0.975500</td>\n",
       "      <td>0.979775</td>\n",
       "      <td>0.003437</td>\n",
       "      <td>175</td>\n",
       "    </tr>\n",
       "    <tr>\n",
       "      <th>2</th>\n",
       "      <td>1.730655</td>\n",
       "      <td>0.048927</td>\n",
       "      <td>0.009326</td>\n",
       "      <td>0.001830</td>\n",
       "      <td>8</td>\n",
       "      <td>4</td>\n",
       "      <td>5</td>\n",
       "      <td>8</td>\n",
       "      <td>{'max_depth': 8, 'min_samples_leaf': 4, 'min_s...</td>\n",
       "      <td>0.982250</td>\n",
       "      <td>...</td>\n",
       "      <td>0.983500</td>\n",
       "      <td>0.984625</td>\n",
       "      <td>0.984250</td>\n",
       "      <td>0.983000</td>\n",
       "      <td>0.981625</td>\n",
       "      <td>0.979000</td>\n",
       "      <td>0.986125</td>\n",
       "      <td>0.982762</td>\n",
       "      <td>0.001895</td>\n",
       "      <td>143</td>\n",
       "    </tr>\n",
       "    <tr>\n",
       "      <th>3</th>\n",
       "      <td>2.164618</td>\n",
       "      <td>0.031563</td>\n",
       "      <td>0.009900</td>\n",
       "      <td>0.001443</td>\n",
       "      <td>8</td>\n",
       "      <td>4</td>\n",
       "      <td>5</td>\n",
       "      <td>10</td>\n",
       "      <td>{'max_depth': 8, 'min_samples_leaf': 4, 'min_s...</td>\n",
       "      <td>0.981875</td>\n",
       "      <td>...</td>\n",
       "      <td>0.981000</td>\n",
       "      <td>0.982000</td>\n",
       "      <td>0.983375</td>\n",
       "      <td>0.983750</td>\n",
       "      <td>0.974625</td>\n",
       "      <td>0.976500</td>\n",
       "      <td>0.981875</td>\n",
       "      <td>0.981175</td>\n",
       "      <td>0.003023</td>\n",
       "      <td>155</td>\n",
       "    </tr>\n",
       "    <tr>\n",
       "      <th>4</th>\n",
       "      <td>0.674468</td>\n",
       "      <td>0.025008</td>\n",
       "      <td>0.004399</td>\n",
       "      <td>0.001020</td>\n",
       "      <td>8</td>\n",
       "      <td>4</td>\n",
       "      <td>8</td>\n",
       "      <td>3</td>\n",
       "      <td>{'max_depth': 8, 'min_samples_leaf': 4, 'min_s...</td>\n",
       "      <td>0.983375</td>\n",
       "      <td>...</td>\n",
       "      <td>0.980875</td>\n",
       "      <td>0.979875</td>\n",
       "      <td>0.977750</td>\n",
       "      <td>0.969000</td>\n",
       "      <td>0.978000</td>\n",
       "      <td>0.975625</td>\n",
       "      <td>0.983000</td>\n",
       "      <td>0.977650</td>\n",
       "      <td>0.004535</td>\n",
       "      <td>188</td>\n",
       "    </tr>\n",
       "  </tbody>\n",
       "</table>\n",
       "<p>5 rows × 22 columns</p>\n",
       "</div>"
      ],
      "text/plain": [
       "   mean_fit_time  std_fit_time  mean_score_time  std_score_time  \\\n",
       "0       0.716371      0.039646         0.006502        0.001859   \n",
       "1       1.127427      0.037619         0.006302        0.001100   \n",
       "2       1.730655      0.048927         0.009326        0.001830   \n",
       "3       2.164618      0.031563         0.009900        0.001443   \n",
       "4       0.674468      0.025008         0.004399        0.001020   \n",
       "\n",
       "  param_max_depth param_min_samples_leaf param_min_samples_split  \\\n",
       "0               8                      4                       5   \n",
       "1               8                      4                       5   \n",
       "2               8                      4                       5   \n",
       "3               8                      4                       5   \n",
       "4               8                      4                       8   \n",
       "\n",
       "  param_n_estimators                                             params  \\\n",
       "0                  3  {'max_depth': 8, 'min_samples_leaf': 4, 'min_s...   \n",
       "1                  5  {'max_depth': 8, 'min_samples_leaf': 4, 'min_s...   \n",
       "2                  8  {'max_depth': 8, 'min_samples_leaf': 4, 'min_s...   \n",
       "3                 10  {'max_depth': 8, 'min_samples_leaf': 4, 'min_s...   \n",
       "4                  3  {'max_depth': 8, 'min_samples_leaf': 4, 'min_s...   \n",
       "\n",
       "   split0_test_score  ...  split3_test_score  split4_test_score  \\\n",
       "0           0.979500  ...           0.980500           0.976000   \n",
       "1           0.981250  ...           0.979625           0.978750   \n",
       "2           0.982250  ...           0.983500           0.984625   \n",
       "3           0.981875  ...           0.981000           0.982000   \n",
       "4           0.983375  ...           0.980875           0.979875   \n",
       "\n",
       "   split5_test_score  split6_test_score  split7_test_score  split8_test_score  \\\n",
       "0           0.979250           0.980125           0.981375           0.976125   \n",
       "1           0.971875           0.980875           0.981500           0.983750   \n",
       "2           0.984250           0.983000           0.981625           0.979000   \n",
       "3           0.983375           0.983750           0.974625           0.976500   \n",
       "4           0.977750           0.969000           0.978000           0.975625   \n",
       "\n",
       "   split9_test_score  mean_test_score  std_test_score  rank_test_score  \n",
       "0           0.980750         0.979325        0.001830              179  \n",
       "1           0.975500         0.979775        0.003437              175  \n",
       "2           0.986125         0.982762        0.001895              143  \n",
       "3           0.981875         0.981175        0.003023              155  \n",
       "4           0.983000         0.977650        0.004535              188  \n",
       "\n",
       "[5 rows x 22 columns]"
      ]
     },
     "execution_count": 36,
     "metadata": {},
     "output_type": "execute_result"
    }
   ],
   "source": [
    "cv_results = pd.DataFrame(gridcv.cv_results_)\n",
    "cv_results.head()"
   ]
  },
  {
   "cell_type": "code",
   "execution_count": 37,
   "id": "47872fdc",
   "metadata": {},
   "outputs": [
    {
     "data": {
      "text/plain": [
       "<seaborn.axisgrid.PairGrid at 0x24396054880>"
      ]
     },
     "execution_count": 37,
     "metadata": {},
     "output_type": "execute_result"
    },
    {
     "data": {
      "image/png": "[encoded data removed]",
      "text/plain": [
       "<Figure size 864x360 with 4 Axes>"
      ]
     },
     "metadata": {
      "needs_background": "light"
     },
     "output_type": "display_data"
    }
   ],
   "source": [
    "params = ['param_max_depth', 'param_min_samples_leaf', 'param_min_samples_split',\n",
    "       'param_n_estimators']\n",
    "\n",
    "g = sns.PairGrid(data=cv_results, x_vars=params,y_vars='mean_test_score',height=5, aspect=.6)\n",
    "g.map(sns.lineplot)"
   ]
  },
  {
   "cell_type": "markdown",
   "id": "7ddbaa06",
   "metadata": {},
   "source": [
    "## Fitting a Final Model Using the Best Parameters"
   ]
  },
  {
   "cell_type": "code",
   "execution_count": 38,
   "id": "bbcafd63",
   "metadata": {},
   "outputs": [
    {
     "name": "stdout",
     "output_type": "stream",
     "text": [
      "Best Estimator: RandomForestClassifier(max_depth=11, min_samples_leaf=6, min_samples_split=5,\n",
      "                       n_estimators=10)\n",
      "\n",
      "Best Parameters: {'max_depth': 11, 'min_samples_leaf': 6, 'min_samples_split': 5, 'n_estimators': 10}\n",
      "\n",
      "Best Score: 0.9965624999999999\n"
     ]
    }
   ],
   "source": [
    "print(f'Best Estimator: {gridcv.best_estimator_}\\n')\n",
    "print(f'Best Parameters: {gridcv.best_params_}\\n')\n",
    "print(f'Best Score: {gridcv.best_score_}')"
   ]
  },
  {
   "cell_type": "code",
   "execution_count": 39,
   "id": "9bc9ed25",
   "metadata": {},
   "outputs": [],
   "source": [
    "randforest = RandomForestClassifier(n_estimators=10,\n",
    "                                    max_depth=11,\n",
    "                                    min_samples_split=5,\n",
    "                                    min_samples_leaf=6,\n",
    "                                    random_state=42)"
   ]
  },
  {
   "cell_type": "code",
   "execution_count": 40,
   "id": "916829d1",
   "metadata": {},
   "outputs": [
    {
     "data": {
      "text/plain": [
       "RandomForestClassifier(max_depth=11, min_samples_leaf=6, min_samples_split=5,\n",
       "                       n_estimators=10, random_state=42)"
      ]
     },
     "execution_count": 40,
     "metadata": {},
     "output_type": "execute_result"
    }
   ],
   "source": [
    "randforest.fit(X_train,y_train)"
   ]
  },
  {
   "cell_type": "code",
   "execution_count": 41,
   "id": "758f7c6c",
   "metadata": {},
   "outputs": [
    {
     "name": "stderr",
     "output_type": "stream",
     "text": [
      "C:\\Users\\ajgal\\anaconda3\\lib\\site-packages\\yellowbrick\\classifier\\base.py:232: YellowbrickWarning: could not determine class_counts_ from previously fitted classifier\n",
      "  warnings.warn(\n"
     ]
    },
    {
     "data": {
      "image/png": "[encoded data removed]",
      "text/plain": [
       "<Figure size 576x396 with 1 Axes>"
      ]
     },
     "metadata": {},
     "output_type": "display_data"
    },
    {
     "data": {
      "text/plain": [
       "<AxesSubplot:title={'center':'RandomForestClassifier Confusion Matrix'}, xlabel='Predicted Class', ylabel='True Class'>"
      ]
     },
     "execution_count": 41,
     "metadata": {},
     "output_type": "execute_result"
    }
   ],
   "source": [
    "from yellowbrick.classifier import ConfusionMatrix\n",
    "classes = ['Valid', 'Fraud']\n",
    "label_encoder ={0:'Valid',1:'Fraud'}\n",
    "cm = ConfusionMatrix(randforest, classes=classes, label_encoder=label_encoder)\n",
    "cm.score(X_test,y_test)\n",
    "cm.show()"
   ]
  },
  {
   "cell_type": "code",
   "execution_count": 42,
   "id": "dbc3f2d7",
   "metadata": {},
   "outputs": [
    {
     "name": "stdout",
     "output_type": "stream",
     "text": [
      "              precision    recall  f1-score   support\n",
      "\n",
      "       Valid       0.98      1.00      0.99     10035\n",
      "       Fraud       1.00      0.98      0.99      9965\n",
      "\n",
      "    accuracy                           0.99     20000\n",
      "   macro avg       0.99      0.99      0.99     20000\n",
      "weighted avg       0.99      0.99      0.99     20000\n",
      "\n"
     ]
    }
   ],
   "source": [
    "from sklearn.metrics import classification_report\n",
    "y_pred = randforest.predict(X_test)\n",
    "target_names = ['Valid', 'Fraud']\n",
    "print(classification_report(y_test,y_pred,target_names=target_names))"
   ]
  },
  {
   "cell_type": "markdown",
   "id": "26463874",
   "metadata": {},
   "source": [
    "# Analyzing the Results\n",
    "Based on the results from the test set the classifier seem to do a good job of determining Valid transactions against Fraudulent ones. However, the error leans towrads false negatives which is not preferred in our case. **We would rather misclassify a valid transaction as fraud than to classify a fraudulent transaction as valid**. Therefore there is room for improvement here at least in terms of false negatives. We can experiment with the parameters some more to lower the false negative rate. Of course we could also see how well a different algorithm would interpret the data such as Adaboost which shares some similarity to Random Forests. \n",
    "\n",
    "The overall accuracy of the classifier is more than a bit misleading. **Out of 284807 data points only 492 registered as fraudulent**. When we consider that out of that 492 fraud case number 156 were misclassified as not fraud we get a clearer picture of how \"accurate\" the classifier really is...\n",
    "\n",
    "The more we are able to push the false negatives into correct classifications and/or at the very least to misclassify more false positives than false negatives the better our model ultimately is. There is are several paths to improving the model but at this point in time this model needs more work before deployment. "
   ]
  }
 ],
 "metadata": {
  "kernelspec": {
   "display_name": "Python 3",
   "language": "python",
   "name": "python3"
  },
  "language_info": {
   "codemirror_mode": {
    "name": "ipython",
    "version": 3
   },
   "file_extension": ".py",
   "mimetype": "text/x-python",
   "name": "python",
   "nbconvert_exporter": "python",
   "pygments_lexer": "ipython3",
   "version": "3.8.5"
  }
 },
 "nbformat": 4,
 "nbformat_minor": 5
}
